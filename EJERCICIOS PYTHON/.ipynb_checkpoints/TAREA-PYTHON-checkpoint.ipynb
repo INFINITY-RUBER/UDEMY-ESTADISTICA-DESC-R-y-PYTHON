{
 "cells": [
  {
   "cell_type": "markdown",
   "metadata": {},
   "source": [
    "## reguntas de esta tarea:\n",
    "\n",
    "1. Crea una función que reciba los tres coeficientes a, b y c para resolver una ecuación de segundo grado. Muestra la solución por pantalla y ayúdate de la librería Math para acceder a la función raíz cuadrada.\n",
    "\n",
    "2. Crea una función que lea una frase de teclado y nos diga si es o no un palíndromo (frase que se lee igual de izquierda a derecha o al revés como por ejemplo La ruta nos aportó otro paso natural.)\n",
    "\n",
    "3. Crea un diccionario que tenga por claves los números del 1 al 10 y como valores sus raíces cuadradas\n",
    "\n",
    "4. Crea un diccionario que tenga como claves las letras del alfabeto castellano y como valores los símbolos del código morse (los tienes todos en la Wikipedia). A continuación crea un programa que lea una frase del teclado y te la convierta a Morse utilizando el diccionario anterior.\n",
    "\n",
    "5. Crea una función que dados dos diccionarios nos diga que claves están presentes en ambos.\n",
    "\n",
    "6. Crea una función que dado un número N nos diga si es primo o no (tiene que ir dividiendo por todos los números x comprendidos entre 2 y el propio número N menos uno y ver si el cociente de N/x tiene resto entero o no).\n",
    "\n",
    "7. Investiga la documentación de la clase string y crea un método que lea una frase del teclado y escriba la primera letra de cada palabra en Mayúscula.\n",
    "\n",
    "8. Crea una función que calcule el máximo común divisor de dos números introducidos por el usuario por teclado.\n",
    "\n",
    "9. Investiga el Cifrado del César y crea una función que lo reproduzca en Python. Cada letra del mensaje original se desplaza tres posiciones en el alfabeto estándar. La A se convierte en la D, la B se convierte en la E, la C se convierte en la F... y cuando se acaba el alfabeto se le vuelve a dar la vuelta: la X se convierte en la A, la Y en la B y la X en la C. Los números no sufren ninguna modificación.\n",
    "\n",
    "10. Dado una lista de nombres de persona, escribe un algoritmo que los ordene de tres formas diferentes:\n",
    "\n",
    " A. De forma alfabética\n",
    "\n",
    " B. De forma alfabética invertida\n",
    "\n",
    " C. De nombre más corto al más largo."
   ]
  },
  {
   "cell_type": "markdown",
   "metadata": {},
   "source": [
    "## DESARROLLO"
   ]
  },
  {
   "cell_type": "markdown",
   "metadata": {},
   "source": [
    "1 Crea una función que reciba los tres coeficientes a, b y c para resolver una ecuación de segundo grado. Muestra la solución por pantalla y ayúdate de la librería Math para acceder a la función raíz cuadrada."
   ]
  },
  {
   "cell_type": "code",
   "execution_count": 1,
   "metadata": {},
   "outputs": [
    {
     "name": "stdout",
     "output_type": "stream",
     "text": [
      "Ingrese a 3\n",
      "Ingrese b 5\n",
      "Ingrese c 1\n",
      "raiz: 3.605551\n",
      "x1: -0.232408\n",
      "x2:: -1.434259\n"
     ]
    }
   ],
   "source": [
    "import math\n",
    "a = int(input(\"Ingrese a \"))\n",
    "b = int(input(\"Ingrese b \"))\n",
    "c = int(input(\"Ingrese c \"))\n",
    "\n",
    "if ((b**2)-4*a*c) >= 0:\n",
    "    raiz = math.sqrt((b**2 - 4*a*c))\n",
    "    x1 = (-b + raiz)/(2*a)\n",
    "    x2 = (-b - raiz)/(2*a)\n",
    "    print(\"raiz: %f\"%raiz)\n",
    "    print (\"x1: %f\"%x1)\n",
    "    print (\"x2:: %f\"%x2)\n",
    "else:\n",
    "    print (\"no es posible use otros coeficientes a, b y c \")   \n",
    "# x1 = (-b + math.sqrt(b**2 - 4(a*c)))/(2*a)"
   ]
  },
  {
   "cell_type": "markdown",
   "metadata": {},
   "source": [
    "2. Crea una función que lea una frase de teclado y nos diga si es o no un palíndromo (frase que se lee igual de izquierda a derecha o al revés como por ejemplo La ruta nos aportó otro paso natural.)\n"
   ]
  },
  {
   "cell_type": "code",
   "execution_count": 28,
   "metadata": {},
   "outputs": [
    {
     "name": "stdout",
     "output_type": "stream",
     "text": [
      "Ingrese frace: ada\n",
      "salida: ada\n",
      "salida invertida: ada\n",
      "SI ES PALINDROMO\n"
     ]
    }
   ],
   "source": [
    "dato = input(\"Ingrese frace: \").lower()\n",
    "dato1 = dato.replace(' ', '')\n",
    "invertido = \"\".join(reversed(dato1))\n",
    "print(\"salida: \" + dato1)\n",
    "print(\"salida invertida: \" + invertido)\n",
    "if dato1 == invertido:\n",
    "    print(\"SI ES PALINDROMO\")\n",
    "else:\n",
    "    print(\"NO ES PALINDROMO\")\n"
   ]
  },
  {
   "cell_type": "markdown",
   "metadata": {},
   "source": [
    "3. Crea un diccionario que tenga por claves los números del 1 al 10 y como valores sus raíces cuadradas"
   ]
  },
  {
   "cell_type": "code",
   "execution_count": 27,
   "metadata": {},
   "outputs": [
    {
     "name": "stdout",
     "output_type": "stream",
     "text": [
      "[1 2 3 4 5 6 7 8 9]\n",
      "{1: 1.0, 2: 1.4142135623730951, 3: 1.7320508075688772, 4: 2.0, 5: 2.23606797749979, 6: 2.449489742783178, 7: 2.6457513110645907, 8: 2.8284271247461903, 9: 3.0}\n"
     ]
    }
   ],
   "source": [
    "import numpy as np\n",
    "arreglo = np.arange(1, 10)\n",
    "print(arreglo)\n",
    "dicionario = {i:math.sqrt(i) for i in arreglo}\n",
    "print(dicionario)"
   ]
  },
  {
   "cell_type": "markdown",
   "metadata": {},
   "source": [
    "4. Crea un diccionario que tenga como claves las letras del alfabeto castellano y como valores los símbolos del código morse (los tienes todos en la Wikipedia). A continuación crea un programa que lea una frase del teclado y te la convierta a Morse utilizando el diccionario anterior.\n"
   ]
  },
  {
   "cell_type": "code",
   "execution_count": 56,
   "metadata": {},
   "outputs": [
    {
     "name": "stdout",
     "output_type": "stream",
     "text": [
      "alfabeto: ['a', 'b', 'c', 'd', 'e', 'f', 'g', 'h', 'i', 'j', 'k', 'l', 'm', 'n', 'o', 'p', 'q', 'r', 's', 't', 'u', 'v', 'w', 'x', 'y', 'z']\n",
      "Codigo Morse: ['.- ', ' -... ', ' -.-. ', ' -.. ', ' . ', ' ..-. ', ' --. ', ' .... ', ' .. ', ' .--- ', ' -.- ', ' .-.. ', ' -- ', ' -. ', ' --- ', ' .--. ', ' --.- ', ' .-. ', ' ... ', ' - ', ' ..- ', ' ...- ', ' .-- ', ' -..- ', ' -.-- ', ' --..']\n",
      "dicionario: {'a': '.- ', 'b': ' -... ', 'c': ' -.-. ', 'd': ' -.. ', 'e': ' . ', 'f': ' ..-. ', 'g': ' --. ', 'h': ' .... ', 'i': ' .. ', 'j': ' .--- ', 'k': ' -.- ', 'l': ' .-.. ', 'm': ' -- ', 'n': ' -. ', 'o': ' --- ', 'p': ' .--. ', 'q': ' --.- ', 'r': ' .-. ', 's': ' ... ', 't': ' - ', 'u': ' ..- ', 'v': ' ...- ', 'w': ' .-- ', 'x': ' -..- ', 'y': ' -.-- ', 'z': ' --..'}\n",
      "Ingrese datos: fsagdfg\n",
      "El código morse para  f  es  ..-. \n",
      "El código morse para  s  es  ... \n",
      "El código morse para  a  es .- \n",
      "El código morse para  g  es  --. \n",
      "El código morse para  d  es  -.. \n",
      "El código morse para  f  es  ..-. \n",
      "El código morse para  g  es  --. \n"
     ]
    }
   ],
   "source": [
    "import string \n",
    "lista_afabeto = list(string.ascii_lowercase)\n",
    "cod_morse = \".- / -... / -.-. / -.. / . / ..-. / --. / .... / .. / .--- / -.- / .-.. / -- / -. / --- / .--. / --.- / .-. / ... / - / ..- / ...- / .-- / -..- / -.-- / --..\"\n",
    "CodigoMorse = cod_morse.replace('/', ',').split(',')\n",
    "print(\"alfabeto: \" + str(lista_afabeto))\n",
    "print(\"Codigo Morse: \" + str(CodigoMorse))\n",
    "dicionario = {i:j for i, j in zip(lista_afabeto, CodigoMorse)}\n",
    "print(\"dicionario: \" + str(dicionario))\n",
    "data_inpt = input(\"Ingrese datos: \").lower().replace(' ', '')\n",
    "for x in data_inpt:\n",
    "    print(\"El código morse para \",x,\" es \" + dicionario[x])"
   ]
  },
  {
   "cell_type": "markdown",
   "metadata": {},
   "source": [
    "5. Crea una función que dados dos diccionarios nos diga que claves están presentes en ambos."
   ]
  },
  {
   "cell_type": "code",
   "execution_count": 63,
   "metadata": {},
   "outputs": [
    {
     "name": "stdout",
     "output_type": "stream",
     "text": [
      "D1 contien a  Nasda  en D2 \n",
      "D1 contien a  facebook  en D2 \n",
      "D1 contien a  Jenifer  en D2 \n"
     ]
    }
   ],
   "source": [
    "d1={\"Bitcoin\":20, \"Nasda\":17, \"Dj\": 15, \"Sombras\": 14, \"facebook\": 1, \"Jenifer\": 3 }\n",
    "d2={\"Eterium\":20, \"facebook\":17, \"mama\": 15, \"Nasda\": 14, \"Jenifer\": 1, \"gato\": 3 }\n",
    "for x in d1:\n",
    "    if x in d2:\n",
    "        print(\"D1 contien a \" , x,\" en D2 \")\n"
   ]
  },
  {
   "cell_type": "markdown",
   "metadata": {},
   "source": [
    "6. Crea una función que dado un número N nos diga si es primo o no (tiene que ir dividiendo por todos los números x comprendidos entre 2 y el propio número N menos uno y ver si el cociente de N/x tiene resto entero o no)."
   ]
  },
  {
   "cell_type": "code",
   "execution_count": 71,
   "metadata": {},
   "outputs": [
    {
     "name": "stdout",
     "output_type": "stream",
     "text": [
      "ingrese un numero: 4\n",
      "\n",
      "El numero 4 NO es primo\n"
     ]
    }
   ],
   "source": [
    "def Nprimo(N):\n",
    "    for x in range(2, N):\n",
    "        if N%x == 0:\n",
    "            return False\n",
    "    return True\n",
    "\n",
    "numero = int(input(\"ingrese un numero: \"))\n",
    "if Nprimo(numero):\n",
    "    print (\"\\nEl numero %s es primo\" % numero)\n",
    "else:\n",
    "    print (\"\\nEl numero %s NO es primo\" % numero)\n",
    "            "
   ]
  },
  {
   "cell_type": "code",
   "execution_count": null,
   "metadata": {},
   "outputs": [],
   "source": []
  }
 ],
 "metadata": {
  "kernelspec": {
   "display_name": "Python 3",
   "language": "python",
   "name": "python3"
  },
  "language_info": {
   "codemirror_mode": {
    "name": "ipython",
    "version": 3
   },
   "file_extension": ".py",
   "mimetype": "text/x-python",
   "name": "python",
   "nbconvert_exporter": "python",
   "pygments_lexer": "ipython3",
   "version": "3.7.4"
  }
 },
 "nbformat": 4,
 "nbformat_minor": 2
}
