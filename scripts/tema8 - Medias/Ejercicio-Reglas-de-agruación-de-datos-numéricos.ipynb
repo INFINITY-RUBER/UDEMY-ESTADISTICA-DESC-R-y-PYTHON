{
 "cells": [
  {
   "cell_type": "markdown",
   "metadata": {},
   "source": [
    "#### 1. Da el algoritmo para reproducir el proceso de generación de clases y sus marcas respectivo para el número de clases obtenido con la regla de la Scott en  Python.\n",
    "\n"
   ]
  },
  {
   "cell_type": "markdown",
   "metadata": {},
   "source": [
    "####  Regla de Scott:\n",
    "   $$k = \\left\\lceil \\frac{\\max(x)-\\min(x)}{A_S}\\right\\rceil$$  \n",
    "   $$A_S = 3.5\\cdot\\tilde{s}\\cdot n^{-\\frac{1}{3}}$$"
   ]
  },
  {
   "cell_type": "code",
   "execution_count": 62,
   "metadata": {},
   "outputs": [],
   "source": [
    "import pandas as pd\n",
    "import numpy as np\n",
    "import math as mt\n",
    "\n",
    "df = pd.read_csv(\"../../data/datacrab.txt\", delimiter=\" \", decimal= \".\")"
   ]
  },
  {
   "cell_type": "code",
   "execution_count": 58,
   "metadata": {},
   "outputs": [
    {
     "data": {
      "text/html": [
       "<div>\n",
       "<style scoped>\n",
       "    .dataframe tbody tr th:only-of-type {\n",
       "        vertical-align: middle;\n",
       "    }\n",
       "\n",
       "    .dataframe tbody tr th {\n",
       "        vertical-align: top;\n",
       "    }\n",
       "\n",
       "    .dataframe thead th {\n",
       "        text-align: right;\n",
       "    }\n",
       "</style>\n",
       "<table border=\"1\" class=\"dataframe\">\n",
       "  <thead>\n",
       "    <tr style=\"text-align: right;\">\n",
       "      <th></th>\n",
       "      <th>input</th>\n",
       "      <th>color</th>\n",
       "      <th>spine</th>\n",
       "      <th>width</th>\n",
       "      <th>satell</th>\n",
       "      <th>weight</th>\n",
       "    </tr>\n",
       "  </thead>\n",
       "  <tbody>\n",
       "    <tr>\n",
       "      <th>0</th>\n",
       "      <td>1</td>\n",
       "      <td>3</td>\n",
       "      <td>3</td>\n",
       "      <td>28.3</td>\n",
       "      <td>8</td>\n",
       "      <td>3050</td>\n",
       "    </tr>\n",
       "    <tr>\n",
       "      <th>1</th>\n",
       "      <td>2</td>\n",
       "      <td>4</td>\n",
       "      <td>3</td>\n",
       "      <td>22.5</td>\n",
       "      <td>0</td>\n",
       "      <td>1550</td>\n",
       "    </tr>\n",
       "    <tr>\n",
       "      <th>2</th>\n",
       "      <td>3</td>\n",
       "      <td>2</td>\n",
       "      <td>1</td>\n",
       "      <td>26.0</td>\n",
       "      <td>9</td>\n",
       "      <td>2300</td>\n",
       "    </tr>\n",
       "    <tr>\n",
       "      <th>3</th>\n",
       "      <td>4</td>\n",
       "      <td>4</td>\n",
       "      <td>3</td>\n",
       "      <td>24.8</td>\n",
       "      <td>0</td>\n",
       "      <td>2100</td>\n",
       "    </tr>\n",
       "  </tbody>\n",
       "</table>\n",
       "</div>"
      ],
      "text/plain": [
       "   input  color  spine  width  satell  weight\n",
       "0      1      3      3   28.3       8    3050\n",
       "1      2      4      3   22.5       0    1550\n",
       "2      3      2      1   26.0       9    2300\n",
       "3      4      4      3   24.8       0    2100"
      ]
     },
     "execution_count": 58,
     "metadata": {},
     "output_type": "execute_result"
    }
   ],
   "source": [
    "df.head(4)"
   ]
  },
  {
   "cell_type": "code",
   "execution_count": 59,
   "metadata": {},
   "outputs": [
    {
     "name": "stdout",
     "output_type": "stream",
     "text": [
      "len:  173\n",
      "min:  21.0\n",
      "max: 33.5\n",
      "2.1090609736603203\n",
      "As 1.3247740490966646\n",
      "k1 9.0\n",
      "L1: 20.95\n",
      "L: [20.95 22.35 23.75 25.15 26.55 27.95 29.35 30.75 32.15 33.55]\n",
      "X: [21.5, 23.0, 24.5, 26.0, 27.0, 28.5, 30.0, 31.5, 33.0]\n"
     ]
    }
   ],
   "source": [
    "n = len(df.index)\n",
    "print(\"len: \",n)\n",
    "m = min(df.width)\n",
    "print(\"min: \",m)\n",
    "M = max(df.width)\n",
    "print(\"max:\",M)\n",
    "wc = df.width.std()\n",
    "print(wc)\n",
    "\n",
    "# Determinando la amplitud:\n",
    "As = 3.5*wc*pow(n, -1/3)\n",
    "print(\"As\",As)\n",
    "\n",
    "# se redondeará por encima, i.e. = 1.4  \n",
    "As = 1.4\n",
    "\n",
    "# Determinando el número de clases:\n",
    "k1 = np.ceil((M-m)/As)\n",
    "print(\"k1\",k1)\n",
    "\n",
    "#Calculamos el primer extremo:\n",
    "m = min(df.width)\n",
    "L1 = m - (1/2)*0.1\n",
    "print(\"L1:\",L1)\n",
    "\n",
    "# resto de extremos\n",
    "L = L1 + As * np.arange(10)\n",
    "print(\"L:\",L)\n",
    "\n",
    "#Determinando las marcas de clase:\n",
    "X = list((np.round(L[0:len(L)-1]+L[1:len(L)]))/2)\n",
    "print(\"X:\",X)"
   ]
  },
  {
   "cell_type": "markdown",
   "metadata": {},
   "source": [
    "#### 2. Da el algoritmo para reproducir el proceso de generación de clases y sus marcas respectivo para el número de clases obtenido con la regla de la raíz en R o en Python.\n"
   ]
  },
  {
   "cell_type": "markdown",
   "metadata": {},
   "source": [
    " #### Regla de la raíz cuadrada:\n",
    " $k = \\lceil\\sqrt{n}\\ \\rceil$"
   ]
  },
  {
   "cell_type": "code",
   "execution_count": 60,
   "metadata": {},
   "outputs": [
    {
     "name": "stdout",
     "output_type": "stream",
     "text": [
      "n: 173\n",
      "k1: 14\n",
      "min:  21.0\n",
      "max: 33.5\n",
      "A: 0.9\n",
      "L1: 20.95\n",
      "L: [20.95, 21.85, 22.75, 23.65, 24.55, 25.45, 26.35, 27.25, 28.15, 29.05, 29.95, 30.85, 31.75, 32.65, 33.55]\n",
      "X: [10.5, 11.0, 11.5, 12.0, 12.5, 12.5, 13.0, 13.5, 14.0, 14.5, 15.0, 15.5, 16.0, 16.5, 11.0, 11.5, 12.0, 12.5, 12.5, 13.0, 13.5, 14.0, 14.5, 15.0, 15.5, 16.0, 16.5, 17.0]\n"
     ]
    }
   ],
   "source": [
    "# hallamos cantidad de intervalos\n",
    "n = len(df.width)\n",
    "print(\"n:\", n)\n",
    "k1 = np.ceil(np.sqrt(n))\n",
    "k1 = int(k1)\n",
    "print(\"k1:\", k1)\n",
    "\n",
    "# calculamos Amplitud de invtervalos\n",
    "m = min(df.width)\n",
    "print(\"min: \",m)\n",
    "M = max(df.width)\n",
    "print(\"max:\",M)\n",
    "\n",
    "A = ((M - m )/ k1)+ 0.01\n",
    "A = round(A,1)\n",
    "print(\"A:\", A)\n",
    "\n",
    "#Calculamos el primer extremo e intervalo:\n",
    "m = min(df.width)\n",
    "L1 = m - (1/2)*0.1\n",
    "print(\"L1:\",L1)\n",
    "\n",
    "# resto de extremos\n",
    "L = list(np.round(L1 + A * np.arange(k1+1),2))\n",
    "print(\"L:\",L)\n",
    "\n",
    "#Determinando las marcas de clase:\n",
    "X = list((np.round(L[0:len(L)-1]+L[1:len(L)]))/2)\n",
    "print(\"X:\",X)\n",
    "\n"
   ]
  },
  {
   "cell_type": "markdown",
   "metadata": {},
   "source": [
    "\n",
    "#### 3. Da el algoritmo para reproducir el proceso de generación de clases y sus marcas respectivo para el número de clases obtenido con la regla de la Sturges en R o en Python\n"
   ]
  },
  {
   "cell_type": "markdown",
   "metadata": {},
   "source": [
    "####  Regla de Sturges:\n",
    "$k = \\lceil 1+\\log_{2}(n)\\rceil$"
   ]
  },
  {
   "cell_type": "code",
   "execution_count": 75,
   "metadata": {},
   "outputs": [
    {
     "name": "stdout",
     "output_type": "stream",
     "text": [
      "n: 173\n",
      "k1: 9\n",
      "min:  21.0\n",
      "max: 33.5\n",
      "A: 1.4\n",
      "L1: 20.95\n",
      "L: [20.95, 22.35, 23.75, 25.15, 26.55, 27.95, 29.35, 30.75, 32.15, 33.55]\n",
      "X: [10.5, 11.0, 12.0, 12.5, 13.5, 14.0, 14.5, 15.5, 16.0, 11.0, 12.0, 12.5, 13.5, 14.0, 14.5, 15.5, 16.0, 17.0]\n"
     ]
    },
    {
     "data": {
      "text/plain": [
       "21.65"
      ]
     },
     "execution_count": 75,
     "metadata": {},
     "output_type": "execute_result"
    }
   ],
   "source": [
    "n = len(df.width)\n",
    "print(\"n:\", n)\n",
    "\n",
    "k1 = np.ceil(1 + mt.log(n, 2))\n",
    "k1 = int(k1)\n",
    "print(\"k1:\", k1)\n",
    "\n",
    "# calculamos Amplitud de invtervalos\n",
    "m = min(df.width)\n",
    "print(\"min: \",m)\n",
    "M = max(df.width)\n",
    "print(\"max:\",M)\n",
    "\n",
    "A = ((M - m )/ k1)+ 0.01\n",
    "A = round(A,1)\n",
    "print(\"A:\", A)\n",
    "\n",
    "#Calculamos el primer extremo e intervalo:\n",
    "m = min(df.width) \n",
    "L1 = m - (1/2)*0.1  # 0.1 es la precision\n",
    "print(\"L1:\",L1)\n",
    "\n",
    "# resto de extremos\n",
    "L = list(np.round(L1 + A * np.arange(k1+1),2))\n",
    "print(\"L:\",L)\n",
    "\n",
    "#Determinando las marcas de clase:\n",
    "X = list((np.round(L[0:len(L)-1] + L[1:len(L)]))/2)\n",
    "print(\"X:\",X)\n",
    "\n"
   ]
  },
  {
   "cell_type": "markdown",
   "metadata": {},
   "source": [
    "\n",
    "#### 4. Da el algoritmo para reproducir el proceso de generación de clases y sus marcas respectivo para el número de clases obtenido con la regla de la  Freedman-Diaconis en R o en Python."
   ]
  },
  {
   "cell_type": "markdown",
   "metadata": {},
   "source": [
    "#### Regla de Freedman-Diaconis:\n",
    "$$A_{FD} = 2\\cdot(Q_{0.75}-Q_{0.25})\\cdot n^{-\\frac{1}{3}}$$\n",
    "$$k = \\left\\lceil \\frac{\\max(x)-\\min(x)}{A_{FD}}\\right\\rceil$$"
   ]
  },
  {
   "cell_type": "code",
   "execution_count": 101,
   "metadata": {},
   "outputs": [
    {
     "name": "stdout",
     "output_type": "stream",
     "text": [
      "n: 173\n",
      "Afd: 1.005015267470426\n",
      "min:  21.0\n",
      "max: 33.5\n",
      "k1: 13\n",
      "A: 1.0\n",
      "L1: 20.95\n",
      "L: [20.95, 21.95, 22.95, 23.95, 24.95, 25.95, 26.95, 27.95, 28.95, 29.95, 30.95, 31.95, 32.95, 33.95]\n",
      "X: [10.5, 11.0, 11.5, 12.0, 12.5, 13.0, 13.5, 14.0, 14.5, 15.0, 15.5, 16.0, 16.5, 11.0, 11.5, 12.0, 12.5, 13.0, 13.5, 14.0, 14.5, 15.0, 15.5, 16.0, 16.5, 17.0]\n"
     ]
    }
   ],
   "source": [
    "from scipy.stats import iqr\n",
    "\n",
    "n = len(df.width)\n",
    "print(\"n:\", n)\n",
    "Afd= 2*(iqr(df.width))*n**(-1/3)\n",
    "print(\"Afd:\", Afd)\n",
    "\n",
    "# calculamos cantidad invtervalos\n",
    "m = min(df.width)\n",
    "print(\"min: \",m)\n",
    "M = max(df.width)\n",
    "print(\"max:\",M)\n",
    "\n",
    "k1 = np.ceil((M - m ))/ Afd\n",
    "k1 = int(round(k1,0))\n",
    "print(\"k1:\", k1)\n",
    "\n",
    "# calculamos Amplitud de invtervalos\n",
    "A = ((M - m )/ k1)+ 0.01\n",
    "A = round(A,1)\n",
    "print(\"A:\", A)\n",
    "\n",
    "#Calculamos el primer extremo e intervalo:\n",
    "L1 = m - (1/2)*0.1  # 0.1 es la precision\n",
    "print(\"L1:\",L1)\n",
    "\n",
    "# resto de extremos\n",
    "L = list(np.round(L1 + A * np.arange(k1+1),2))\n",
    "print(\"L:\",L)\n",
    "\n",
    "#Determinando las marcas de clase:\n",
    "X = list((np.round(L[0:len(L)-1] + L[1:len(L)]))/2)\n",
    "print(\"X:\",X)\n",
    "\n"
   ]
  },
  {
   "cell_type": "code",
   "execution_count": null,
   "metadata": {},
   "outputs": [],
   "source": []
  }
 ],
 "metadata": {
  "kernelspec": {
   "display_name": "Python 3",
   "language": "python",
   "name": "python3"
  },
  "language_info": {
   "codemirror_mode": {
    "name": "ipython",
    "version": 3
   },
   "file_extension": ".py",
   "mimetype": "text/x-python",
   "name": "python",
   "nbconvert_exporter": "python",
   "pygments_lexer": "ipython3",
   "version": "3.7.4"
  }
 },
 "nbformat": 4,
 "nbformat_minor": 4
}
