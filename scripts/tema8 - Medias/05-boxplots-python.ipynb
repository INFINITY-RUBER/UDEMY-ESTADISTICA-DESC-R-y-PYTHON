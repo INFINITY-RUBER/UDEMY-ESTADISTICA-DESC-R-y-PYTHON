{
 "cells": [
  {
   "cell_type": "markdown",
   "metadata": {},
   "source": [
    "# Diagrama de Caja y Bigotes"
   ]
  },
  {
   "cell_type": "code",
   "execution_count": 1,
   "metadata": {},
   "outputs": [],
   "source": [
    "import numpy as np\n",
    "import matplotlib.pyplot as plt # libreria para graficas"
   ]
  },
  {
   "cell_type": "code",
   "execution_count": 2,
   "metadata": {},
   "outputs": [],
   "source": [
    "np.random.seed(19880519)"
   ]
  },
  {
   "cell_type": "code",
   "execution_count": 18,
   "metadata": {},
   "outputs": [
    {
     "data": {
      "text/plain": [
       "array([ 77.28529275,  22.68128029,  44.94211134,  19.7799338 ,\n",
       "        22.69963498,  29.15373087,  15.95111487,  73.34473543,\n",
       "        16.63757534,  79.07798812,  19.66799936,  62.84366032,\n",
       "        34.96192853,  42.21216944,  90.81886115,  89.40757335,\n",
       "        91.31085738,  77.92800303,  64.53872918,  40.73322059,\n",
       "        33.74909317,  50.44989367,  44.62018757,  67.85169153,\n",
       "         0.44908362,  97.3404099 ,   9.7255841 ,  59.08229669,\n",
       "        80.18011723,  28.48024807,  75.45422042,   1.49691998,\n",
       "         6.50345382,  52.29126651,  16.79324945,  97.53894226,\n",
       "         5.66463077,   4.31350018,  42.15435443,   6.79905751,\n",
       "        99.07140998,  67.0471028 ,  74.9965715 ,  41.58743066,\n",
       "        29.18281812,  27.79646606,  50.87332385,  92.332576  ,\n",
       "        33.15602813,   8.89088528,  50.        ,  50.        ,\n",
       "        50.        ,  50.        ,  50.        ,  50.        ,\n",
       "        50.        ,  50.        ,  50.        ,  50.        ,\n",
       "        50.        ,  50.        ,  50.        ,  50.        ,\n",
       "        50.        ,  50.        ,  50.        ,  50.        ,\n",
       "        50.        ,  50.        ,  50.        ,  50.        ,\n",
       "        50.        ,  50.        ,  50.        , 173.96175818,\n",
       "       155.47080725, 175.53357879, 196.80176164, 115.96601593,\n",
       "       143.70157376, 159.031882  , 122.45540314, 105.11590197,\n",
       "       177.61903055, -79.59798102, -22.47547713, -51.26894715,\n",
       "       -72.56100294, -29.31673826, -31.92821522, -71.33375081,\n",
       "       -36.92485163, -27.49220614, -70.1026719 ])"
      ]
     },
     "execution_count": 18,
     "metadata": {},
     "output_type": "execute_result"
    }
   ],
   "source": [
    "dist1 = 100*np.random.rand(50) # funcion aleatorea entre 0-1\n",
    "dist2 = 50*np.ones(25) # vectores de unos \n",
    "dist3 = 100+100*np.random.rand(10)\n",
    "dist4 = -100*np.random.rand(10)\n",
    "data = np.concatenate((dist1, dist2, dist3, dist4))# concatena\n",
    "data"
   ]
  },
  {
   "cell_type": "code",
   "execution_count": 20,
   "metadata": {},
   "outputs": [
    {
     "data": {
      "text/plain": [
       "{'whiskers': [<matplotlib.lines.Line2D at 0x7f180803b190>,\n",
       "  <matplotlib.lines.Line2D at 0x7f180808eed0>],\n",
       " 'caps': [<matplotlib.lines.Line2D at 0x7f180804d890>,\n",
       "  <matplotlib.lines.Line2D at 0x7f180804dd90>],\n",
       " 'boxes': [<matplotlib.lines.Line2D at 0x7f1808048290>],\n",
       " 'medians': [<matplotlib.lines.Line2D at 0x7f1808048f50>],\n",
       " 'fliers': [<matplotlib.lines.Line2D at 0x7f1808056810>],\n",
       " 'means': []}"
      ]
     },
     "execution_count": 20,
     "metadata": {},
     "output_type": "execute_result"
    },
    {
     "data": {
      "image/png": "[encoded data removed]",
      "text/plain": [
       "<Figure size 432x288 with 1 Axes>"
      ]
     },
     "metadata": {
      "needs_background": "light"
     },
     "output_type": "display_data"
    }
   ],
   "source": [
    "fig1, ax1 = plt.subplots()\n",
    "ax1.set_title(\"Boxplot básico\")\n",
    "ax1.boxplot(data)"
   ]
  },
  {
   "cell_type": "code",
   "execution_count": 21,
   "metadata": {},
   "outputs": [
    {
     "data": {
      "text/plain": [
       "{'whiskers': [<matplotlib.lines.Line2D at 0x7f18080795d0>,\n",
       "  <matplotlib.lines.Line2D at 0x7f1808037690>],\n",
       " 'caps': [<matplotlib.lines.Line2D at 0x7f1808037b90>,\n",
       "  <matplotlib.lines.Line2D at 0x7f18080305d0>],\n",
       " 'boxes': [<matplotlib.lines.Line2D at 0x7f1808030590>],\n",
       " 'medians': [<matplotlib.lines.Line2D at 0x7f1807fbf5d0>],\n",
       " 'fliers': [<matplotlib.lines.Line2D at 0x7f1807fbfb10>],\n",
       " 'means': []}"
      ]
     },
     "execution_count": 21,
     "metadata": {},
     "output_type": "execute_result"
    },
    {
     "data": {
      "image/png": "[encoded data removed]",
      "text/plain": [
       "<Figure size 432x288 with 1 Axes>"
      ]
     },
     "metadata": {
      "needs_background": "light"
     },
     "output_type": "display_data"
    }
   ],
   "source": [
    "fig2, ax2 = plt.subplots()\n",
    "ax2.set_title(\"Boxplot con muescas\")\n",
    "ax2.boxplot(data, notch = True) #  muescas laterales "
   ]
  },
  {
   "cell_type": "code",
   "execution_count": 22,
   "metadata": {},
   "outputs": [
    {
     "data": {
      "text/plain": [
       "{'whiskers': [<matplotlib.lines.Line2D at 0x7f1807f979d0>,\n",
       "  <matplotlib.lines.Line2D at 0x7f1807fa2a90>],\n",
       " 'caps': [<matplotlib.lines.Line2D at 0x7f18081257d0>,\n",
       "  <matplotlib.lines.Line2D at 0x7f1807fa94d0>],\n",
       " 'boxes': [<matplotlib.lines.Line2D at 0x7f1807f97990>],\n",
       " 'medians': [<matplotlib.lines.Line2D at 0x7f1807fa99d0>],\n",
       " 'fliers': [<matplotlib.lines.Line2D at 0x7f1807fa9f10>],\n",
       " 'means': []}"
      ]
     },
     "execution_count": 22,
     "metadata": {},
     "output_type": "execute_result"
    },
    {
     "data": {
      "image/png": "[encoded data removed]",
      "text/plain": [
       "<Figure size 432x288 with 1 Axes>"
      ]
     },
     "metadata": {
      "needs_background": "light"
     },
     "output_type": "display_data"
    }
   ],
   "source": [
    "green_diamond = dict(markerfacecolor=\"g\", marker=\"D\") # dicionario de color verde, marker=\"D\" es diamanate\n",
    "fig3, ax3 = plt.subplots()\n",
    "ax3.set_title(\"Boxplot con outliers personalizados\")\n",
    "ax3.boxplot(data, flierprops=green_diamond)"
   ]
  },
  {
   "cell_type": "code",
   "execution_count": null,
   "metadata": {},
   "outputs": [],
   "source": []
  },
  {
   "cell_type": "code",
   "execution_count": 23,
   "metadata": {},
   "outputs": [
    {
     "data": {
      "text/plain": [
       "{'whiskers': [<matplotlib.lines.Line2D at 0x7f1807f4e9d0>,\n",
       "  <matplotlib.lines.Line2D at 0x7f1807f0cb10>],\n",
       " 'caps': [<matplotlib.lines.Line2D at 0x7f1807f01a50>,\n",
       "  <matplotlib.lines.Line2D at 0x7f1807f15550>],\n",
       " 'boxes': [<matplotlib.lines.Line2D at 0x7f1807f01a10>],\n",
       " 'medians': [<matplotlib.lines.Line2D at 0x7f1807f15a50>],\n",
       " 'fliers': [],\n",
       " 'means': []}"
      ]
     },
     "execution_count": 23,
     "metadata": {},
     "output_type": "execute_result"
    },
    {
     "data": {
      "image/png": "[encoded data removed]",
      "text/plain": [
       "<Figure size 432x288 with 1 Axes>"
      ]
     },
     "metadata": {
      "needs_background": "light"
     },
     "output_type": "display_data"
    }
   ],
   "source": [
    "fig4, ax4 = plt.subplots()\n",
    "ax4.set_title(\"Boxplot sin outliers\")\n",
    "ax4.boxplot(data, showfliers=False) # ajustar los ejes"
   ]
  },
  {
   "cell_type": "code",
   "execution_count": 26,
   "metadata": {},
   "outputs": [
    {
     "data": {
      "text/plain": [
       "{'whiskers': [<matplotlib.lines.Line2D at 0x7f1807e17150>,\n",
       "  <matplotlib.lines.Line2D at 0x7f1807dc5fd0>],\n",
       " 'caps': [<matplotlib.lines.Line2D at 0x7f1807dd65d0>,\n",
       "  <matplotlib.lines.Line2D at 0x7f1807dd6ad0>],\n",
       " 'boxes': [<matplotlib.lines.Line2D at 0x7f1807dc5f90>],\n",
       " 'medians': [<matplotlib.lines.Line2D at 0x7f1807dd1c90>],\n",
       " 'fliers': [<matplotlib.lines.Line2D at 0x7f1807ddf550>],\n",
       " 'means': []}"
      ]
     },
     "execution_count": 26,
     "metadata": {},
     "output_type": "execute_result"
    },
    {
     "data": {
      "image/png": "[encoded data removed]",
      "text/plain": [
       "<Figure size 432x288 with 1 Axes>"
      ]
     },
     "metadata": {
      "needs_background": "light"
     },
     "output_type": "display_data"
    }
   ],
   "source": [
    "red_square = dict(markerfacecolor=\"r\", marker=\"s\")# color rojo\n",
    "fig5, ax5 = plt.subplots()\n",
    "ax5.set_title(\"Boxplot personalizado y en horizontal\")\n",
    "ax5.boxplot(data, vert=False, flierprops=red_square, whis=0.75)"
   ]
  },
  {
   "cell_type": "code",
   "execution_count": 27,
   "metadata": {},
   "outputs": [],
   "source": [
    "dist1 = 100*np.random.rand(50)\n",
    "dist2 = 40*np.ones(25)\n",
    "dist3 = 100+100*np.random.rand(10)\n",
    "dist4 = -100*np.random.rand(10)\n",
    "data2 = np.concatenate((dist1, dist2, dist3, dist4))"
   ]
  },
  {
   "cell_type": "code",
   "execution_count": 28,
   "metadata": {},
   "outputs": [],
   "source": [
    "data.shape = (-1,1)\n",
    "data2.shape = (-1,1)"
   ]
  },
  {
   "cell_type": "code",
   "execution_count": 30,
   "metadata": {},
   "outputs": [
    {
     "data": {
      "text/plain": [
       "array([[ 17.27268791],\n",
       "       [ 11.65595619],\n",
       "       [ 34.87003332],\n",
       "       [ 56.1425058 ],\n",
       "       [ 73.05712875],\n",
       "       [ 24.11362893],\n",
       "       [ 31.3388058 ],\n",
       "       [ 53.80741691],\n",
       "       [ 55.14556128],\n",
       "       [ 86.31503892],\n",
       "       [  6.49762829],\n",
       "       [ 66.04633964],\n",
       "       [ 96.10192022],\n",
       "       [ 13.3651233 ],\n",
       "       [ 47.83757161],\n",
       "       [ 71.23112159],\n",
       "       [ 47.97143244],\n",
       "       [ 41.46833005],\n",
       "       [ 11.00760596],\n",
       "       [ 44.8100613 ],\n",
       "       [ 92.54072617],\n",
       "       [ 56.67918035],\n",
       "       [ 58.9480487 ],\n",
       "       [ 82.13082878],\n",
       "       [ 60.50338371],\n",
       "       [ 70.73259512],\n",
       "       [ 65.58807588],\n",
       "       [ 78.52843882],\n",
       "       [ 92.21781912],\n",
       "       [ 10.3402561 ],\n",
       "       [ 15.38631904],\n",
       "       [ 74.32773888],\n",
       "       [ 95.22384506],\n",
       "       [ 11.51823376],\n",
       "       [ 77.48415632],\n",
       "       [ 76.02567844],\n",
       "       [ 37.93337648],\n",
       "       [ 67.42777339],\n",
       "       [  6.3753086 ],\n",
       "       [ 99.7626174 ],\n",
       "       [ 47.28483247],\n",
       "       [ 28.8670606 ],\n",
       "       [ 76.15780502],\n",
       "       [ 17.54703659],\n",
       "       [ 28.77384702],\n",
       "       [  9.94243075],\n",
       "       [ 12.85786864],\n",
       "       [ 43.66352742],\n",
       "       [ 74.57529237],\n",
       "       [ 41.36302201],\n",
       "       [ 40.        ],\n",
       "       [ 40.        ],\n",
       "       [ 40.        ],\n",
       "       [ 40.        ],\n",
       "       [ 40.        ],\n",
       "       [ 40.        ],\n",
       "       [ 40.        ],\n",
       "       [ 40.        ],\n",
       "       [ 40.        ],\n",
       "       [ 40.        ],\n",
       "       [ 40.        ],\n",
       "       [ 40.        ],\n",
       "       [ 40.        ],\n",
       "       [ 40.        ],\n",
       "       [ 40.        ],\n",
       "       [ 40.        ],\n",
       "       [ 40.        ],\n",
       "       [ 40.        ],\n",
       "       [ 40.        ],\n",
       "       [ 40.        ],\n",
       "       [ 40.        ],\n",
       "       [ 40.        ],\n",
       "       [ 40.        ],\n",
       "       [ 40.        ],\n",
       "       [ 40.        ],\n",
       "       [176.21503178],\n",
       "       [166.91984338],\n",
       "       [172.23268905],\n",
       "       [132.24721893],\n",
       "       [142.73815247],\n",
       "       [169.62974967],\n",
       "       [174.41044059],\n",
       "       [164.70926972],\n",
       "       [179.41520225],\n",
       "       [153.53715713],\n",
       "       [ -7.93866484],\n",
       "       [-14.43428257],\n",
       "       [-82.84272636],\n",
       "       [-15.49976798],\n",
       "       [ -2.04658075],\n",
       "       [-49.48676352],\n",
       "       [-28.81747401],\n",
       "       [-29.15608617],\n",
       "       [-55.12092954],\n",
       "       [-74.67213252]])"
      ]
     },
     "execution_count": 30,
     "metadata": {},
     "output_type": "execute_result"
    }
   ],
   "source": [
    "data2"
   ]
  },
  {
   "cell_type": "code",
   "execution_count": 31,
   "metadata": {},
   "outputs": [],
   "source": [
    "fulldata = [data, data2, data2[::2,0]]"
   ]
  },
  {
   "cell_type": "code",
   "execution_count": 32,
   "metadata": {},
   "outputs": [
    {
     "data": {
      "text/plain": [
       "[array([[ 77.28529275],\n",
       "        [ 22.68128029],\n",
       "        [ 44.94211134],\n",
       "        [ 19.7799338 ],\n",
       "        [ 22.69963498],\n",
       "        [ 29.15373087],\n",
       "        [ 15.95111487],\n",
       "        [ 73.34473543],\n",
       "        [ 16.63757534],\n",
       "        [ 79.07798812],\n",
       "        [ 19.66799936],\n",
       "        [ 62.84366032],\n",
       "        [ 34.96192853],\n",
       "        [ 42.21216944],\n",
       "        [ 90.81886115],\n",
       "        [ 89.40757335],\n",
       "        [ 91.31085738],\n",
       "        [ 77.92800303],\n",
       "        [ 64.53872918],\n",
       "        [ 40.73322059],\n",
       "        [ 33.74909317],\n",
       "        [ 50.44989367],\n",
       "        [ 44.62018757],\n",
       "        [ 67.85169153],\n",
       "        [  0.44908362],\n",
       "        [ 97.3404099 ],\n",
       "        [  9.7255841 ],\n",
       "        [ 59.08229669],\n",
       "        [ 80.18011723],\n",
       "        [ 28.48024807],\n",
       "        [ 75.45422042],\n",
       "        [  1.49691998],\n",
       "        [  6.50345382],\n",
       "        [ 52.29126651],\n",
       "        [ 16.79324945],\n",
       "        [ 97.53894226],\n",
       "        [  5.66463077],\n",
       "        [  4.31350018],\n",
       "        [ 42.15435443],\n",
       "        [  6.79905751],\n",
       "        [ 99.07140998],\n",
       "        [ 67.0471028 ],\n",
       "        [ 74.9965715 ],\n",
       "        [ 41.58743066],\n",
       "        [ 29.18281812],\n",
       "        [ 27.79646606],\n",
       "        [ 50.87332385],\n",
       "        [ 92.332576  ],\n",
       "        [ 33.15602813],\n",
       "        [  8.89088528],\n",
       "        [ 50.        ],\n",
       "        [ 50.        ],\n",
       "        [ 50.        ],\n",
       "        [ 50.        ],\n",
       "        [ 50.        ],\n",
       "        [ 50.        ],\n",
       "        [ 50.        ],\n",
       "        [ 50.        ],\n",
       "        [ 50.        ],\n",
       "        [ 50.        ],\n",
       "        [ 50.        ],\n",
       "        [ 50.        ],\n",
       "        [ 50.        ],\n",
       "        [ 50.        ],\n",
       "        [ 50.        ],\n",
       "        [ 50.        ],\n",
       "        [ 50.        ],\n",
       "        [ 50.        ],\n",
       "        [ 50.        ],\n",
       "        [ 50.        ],\n",
       "        [ 50.        ],\n",
       "        [ 50.        ],\n",
       "        [ 50.        ],\n",
       "        [ 50.        ],\n",
       "        [ 50.        ],\n",
       "        [173.96175818],\n",
       "        [155.47080725],\n",
       "        [175.53357879],\n",
       "        [196.80176164],\n",
       "        [115.96601593],\n",
       "        [143.70157376],\n",
       "        [159.031882  ],\n",
       "        [122.45540314],\n",
       "        [105.11590197],\n",
       "        [177.61903055],\n",
       "        [-79.59798102],\n",
       "        [-22.47547713],\n",
       "        [-51.26894715],\n",
       "        [-72.56100294],\n",
       "        [-29.31673826],\n",
       "        [-31.92821522],\n",
       "        [-71.33375081],\n",
       "        [-36.92485163],\n",
       "        [-27.49220614],\n",
       "        [-70.1026719 ]]),\n",
       " array([[ 17.27268791],\n",
       "        [ 11.65595619],\n",
       "        [ 34.87003332],\n",
       "        [ 56.1425058 ],\n",
       "        [ 73.05712875],\n",
       "        [ 24.11362893],\n",
       "        [ 31.3388058 ],\n",
       "        [ 53.80741691],\n",
       "        [ 55.14556128],\n",
       "        [ 86.31503892],\n",
       "        [  6.49762829],\n",
       "        [ 66.04633964],\n",
       "        [ 96.10192022],\n",
       "        [ 13.3651233 ],\n",
       "        [ 47.83757161],\n",
       "        [ 71.23112159],\n",
       "        [ 47.97143244],\n",
       "        [ 41.46833005],\n",
       "        [ 11.00760596],\n",
       "        [ 44.8100613 ],\n",
       "        [ 92.54072617],\n",
       "        [ 56.67918035],\n",
       "        [ 58.9480487 ],\n",
       "        [ 82.13082878],\n",
       "        [ 60.50338371],\n",
       "        [ 70.73259512],\n",
       "        [ 65.58807588],\n",
       "        [ 78.52843882],\n",
       "        [ 92.21781912],\n",
       "        [ 10.3402561 ],\n",
       "        [ 15.38631904],\n",
       "        [ 74.32773888],\n",
       "        [ 95.22384506],\n",
       "        [ 11.51823376],\n",
       "        [ 77.48415632],\n",
       "        [ 76.02567844],\n",
       "        [ 37.93337648],\n",
       "        [ 67.42777339],\n",
       "        [  6.3753086 ],\n",
       "        [ 99.7626174 ],\n",
       "        [ 47.28483247],\n",
       "        [ 28.8670606 ],\n",
       "        [ 76.15780502],\n",
       "        [ 17.54703659],\n",
       "        [ 28.77384702],\n",
       "        [  9.94243075],\n",
       "        [ 12.85786864],\n",
       "        [ 43.66352742],\n",
       "        [ 74.57529237],\n",
       "        [ 41.36302201],\n",
       "        [ 40.        ],\n",
       "        [ 40.        ],\n",
       "        [ 40.        ],\n",
       "        [ 40.        ],\n",
       "        [ 40.        ],\n",
       "        [ 40.        ],\n",
       "        [ 40.        ],\n",
       "        [ 40.        ],\n",
       "        [ 40.        ],\n",
       "        [ 40.        ],\n",
       "        [ 40.        ],\n",
       "        [ 40.        ],\n",
       "        [ 40.        ],\n",
       "        [ 40.        ],\n",
       "        [ 40.        ],\n",
       "        [ 40.        ],\n",
       "        [ 40.        ],\n",
       "        [ 40.        ],\n",
       "        [ 40.        ],\n",
       "        [ 40.        ],\n",
       "        [ 40.        ],\n",
       "        [ 40.        ],\n",
       "        [ 40.        ],\n",
       "        [ 40.        ],\n",
       "        [ 40.        ],\n",
       "        [176.21503178],\n",
       "        [166.91984338],\n",
       "        [172.23268905],\n",
       "        [132.24721893],\n",
       "        [142.73815247],\n",
       "        [169.62974967],\n",
       "        [174.41044059],\n",
       "        [164.70926972],\n",
       "        [179.41520225],\n",
       "        [153.53715713],\n",
       "        [ -7.93866484],\n",
       "        [-14.43428257],\n",
       "        [-82.84272636],\n",
       "        [-15.49976798],\n",
       "        [ -2.04658075],\n",
       "        [-49.48676352],\n",
       "        [-28.81747401],\n",
       "        [-29.15608617],\n",
       "        [-55.12092954],\n",
       "        [-74.67213252]]),\n",
       " array([ 17.27268791,  34.87003332,  73.05712875,  31.3388058 ,\n",
       "         55.14556128,   6.49762829,  96.10192022,  47.83757161,\n",
       "         47.97143244,  11.00760596,  92.54072617,  58.9480487 ,\n",
       "         60.50338371,  65.58807588,  92.21781912,  15.38631904,\n",
       "         95.22384506,  77.48415632,  37.93337648,   6.3753086 ,\n",
       "         47.28483247,  76.15780502,  28.77384702,  12.85786864,\n",
       "         74.57529237,  40.        ,  40.        ,  40.        ,\n",
       "         40.        ,  40.        ,  40.        ,  40.        ,\n",
       "         40.        ,  40.        ,  40.        ,  40.        ,\n",
       "         40.        ,  40.        , 166.91984338, 132.24721893,\n",
       "        169.62974967, 164.70926972, 153.53715713, -14.43428257,\n",
       "        -15.49976798, -49.48676352, -29.15608617, -74.67213252])]"
      ]
     },
     "execution_count": 32,
     "metadata": {},
     "output_type": "execute_result"
    }
   ],
   "source": [
    "fulldata"
   ]
  },
  {
   "cell_type": "code",
   "execution_count": 33,
   "metadata": {},
   "outputs": [
    {
     "data": {
      "image/png": "[encoded data removed]",
      "text/plain": [
       "<Figure size 432x288 with 1 Axes>"
      ]
     },
     "metadata": {
      "needs_background": "light"
     },
     "output_type": "display_data"
    }
   ],
   "source": [
    "fig7, ax7 = plt.subplots()\n",
    "ax7.set_title(\"Múltiples muestras de diferente naturaleza\")\n",
    "ax7.boxplot(fulldata)\n",
    "plt.show()"
   ]
  },
  {
   "cell_type": "markdown",
   "metadata": {},
   "source": [
    "### examen\n"
   ]
  },
  {
   "cell_type": "markdown",
   "metadata": {},
   "source": [
    "## En un diagrama de caja y bigotes no aparece representado\n",
    "####  r/ : LA MEDIANA"
   ]
  },
  {
   "cell_type": "markdown",
   "metadata": {},
   "source": [
    "## No es una medida de centralización\n",
    "#### r/ EL RANGO INTERCUARTILICO"
   ]
  },
  {
   "cell_type": "markdown",
   "metadata": {},
   "source": [
    "## Solo existe una forma de calcular la media en matemáticas\n",
    "#### r/  EXISTE MUCHISIMAS FORMAS"
   ]
  },
  {
   "cell_type": "markdown",
   "metadata": {},
   "source": [
    "## ¿Qué estadístico no tiene las mismas medidas que los datos originales?\n",
    "####  r/ LA VARIANZA"
   ]
  },
  {
   "cell_type": "markdown",
   "metadata": {},
   "source": [
    "## Un dato es considerado outlier en una diagrama de caja si:\n",
    "####  r/ SE ALEJA MAS DE 1.5 VESES EL RANGO INTERCUARTILICO"
   ]
  },
  {
   "cell_type": "code",
   "execution_count": null,
   "metadata": {},
   "outputs": [],
   "source": []
  }
 ],
 "metadata": {
  "kernelspec": {
   "display_name": "Python 3",
   "language": "python",
   "name": "python3"
  },
  "language_info": {
   "codemirror_mode": {
    "name": "ipython",
    "version": 3
   },
   "file_extension": ".py",
   "mimetype": "text/x-python",
   "name": "python",
   "nbconvert_exporter": "python",
   "pygments_lexer": "ipython3",
   "version": "3.7.4"
  }
 },
 "nbformat": 4,
 "nbformat_minor": 2
}
