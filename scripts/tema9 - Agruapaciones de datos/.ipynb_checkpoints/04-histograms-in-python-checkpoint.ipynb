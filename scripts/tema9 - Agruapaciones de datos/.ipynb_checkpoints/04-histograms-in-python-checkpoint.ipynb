{
 "cells": [
  {
   "cell_type": "markdown",
   "metadata": {},
   "source": [
    "# Histogramas en Python"
   ]
  },
  {
   "cell_type": "markdown",
   "metadata": {},
   "source": [
    "## Histogramas en Python puro"
   ]
  },
  {
   "cell_type": "code",
   "execution_count": 43,
   "metadata": {},
   "outputs": [],
   "source": [
    "x = (0,1,1,1,2,2,3,7,7,7,25)"
   ]
  },
  {
   "cell_type": "code",
   "execution_count": 44,
   "metadata": {},
   "outputs": [],
   "source": [
    "def count_elements(seq) -> dict:# crea un dicionario\n",
    "    \"\"\"\n",
    "    Función que cuenta las frecuencias\n",
    "    de aparición de cada elemento de la\n",
    "    secuencia, creando un 'diccionario como\n",
    "    si fuese una tabla de frecuencias'\n",
    "    \"\"\"\n",
    "    hist = {}\n",
    "    for i in seq:\n",
    "        hist[i] = hist.get(i, 0) + 1\n",
    "    return hist"
   ]
  },
  {
   "cell_type": "code",
   "execution_count": 45,
   "metadata": {},
   "outputs": [],
   "source": [
    "fAbs = count_elements(x)"
   ]
  },
  {
   "cell_type": "code",
   "execution_count": 46,
   "metadata": {},
   "outputs": [
    {
     "data": {
      "text/plain": [
       "{0: 1, 1: 3, 2: 2, 3: 1, 7: 3, 25: 1}"
      ]
     },
     "execution_count": 46,
     "metadata": {},
     "output_type": "execute_result"
    }
   ],
   "source": [
    "fAbs"
   ]
  },
  {
   "cell_type": "code",
   "execution_count": 7,
   "metadata": {},
   "outputs": [],
   "source": [
    "from collections import Counter # llamar libreria counter "
   ]
  },
  {
   "cell_type": "code",
   "execution_count": 8,
   "metadata": {},
   "outputs": [],
   "source": [
    "fAbs2 = Counter(x)"
   ]
  },
  {
   "cell_type": "code",
   "execution_count": 9,
   "metadata": {},
   "outputs": [
    {
     "data": {
      "text/plain": [
       "Counter({0: 1, 1: 3, 2: 2, 3: 1, 7: 3, 25: 1})"
      ]
     },
     "execution_count": 9,
     "metadata": {},
     "output_type": "execute_result"
    }
   ],
   "source": [
    "fAbs2"
   ]
  },
  {
   "cell_type": "code",
   "execution_count": 10,
   "metadata": {},
   "outputs": [
    {
     "data": {
      "text/plain": [
       "True"
      ]
     },
     "execution_count": 10,
     "metadata": {},
     "output_type": "execute_result"
    }
   ],
   "source": [
    "fAbs.items() == fAbs2.items()# son complentamente iguales con libreria y a manda con la funcion definida"
   ]
  },
  {
   "cell_type": "code",
   "execution_count": 11,
   "metadata": {},
   "outputs": [],
   "source": [
    "def ascii_histogram(seq) -> None: # no devuelve nada\n",
    "    \"\"\"\n",
    "    Un histograma de frecuencias absolutas\n",
    "    colocado en horizontal y con caracteres ASCII\n",
    "    \"\"\"\n",
    "    fAbs = count_elements(seq)\n",
    "    for k in sorted(fAbs):# funcion sorted (ordena el vector)\n",
    "        print('{0:5d} {1}'.format(k, '+'*fAbs[k])) # '{0:5d} {1}' {5 digitos}{1 digito}"
   ]
  },
  {
   "cell_type": "code",
   "execution_count": 39,
   "metadata": {},
   "outputs": [
    {
     "name": "stdout",
     "output_type": "stream",
     "text": [
      "    0 +\n",
      "    1 +++\n",
      "    2 ++\n",
      "    3 +\n",
      "    7 +++\n",
      "   25 +\n"
     ]
    }
   ],
   "source": [
    "ascii_histogram(x)"
   ]
  },
  {
   "cell_type": "code",
   "execution_count": 13,
   "metadata": {},
   "outputs": [],
   "source": [
    "import random\n",
    "random.seed(2019) # semilla"
   ]
  },
  {
   "cell_type": "code",
   "execution_count": 14,
   "metadata": {},
   "outputs": [],
   "source": [
    "vals = [1,2,3,5,7,8,9,10]\n",
    "freqs = (random.randint(5,20) for _ in vals)# para cada elemento de VAls generara un aleatorior entero entre 5 - 20\n"
   ]
  },
  {
   "cell_type": "code",
   "execution_count": 15,
   "metadata": {},
   "outputs": [],
   "source": [
    "data = []\n",
    "for k, v in zip(vals, freqs): # Funcion zip Junta a la PAR dos vectores  y con FOR recorre a la PAR\n",
    "    data.extend([k]*v) # Funcio Extend añade el propio valor de los arreglos y multiplica por los valores del randon"
   ]
  },
  {
   "cell_type": "code",
   "execution_count": 16,
   "metadata": {},
   "outputs": [],
   "source": [
    "#data"
   ]
  },
  {
   "cell_type": "code",
   "execution_count": 17,
   "metadata": {},
   "outputs": [
    {
     "name": "stdout",
     "output_type": "stream",
     "text": [
      "    1 +++++++++\n",
      "    2 ++++++++++++\n",
      "    3 ++++++++++++++++++++\n",
      "    5 ++++++++++\n",
      "    7 ++++++++++++\n",
      "    8 ++++++++++++\n",
      "    9 +++++++++++++++\n",
      "   10 ++++++++++++++\n"
     ]
    }
   ],
   "source": [
    "ascii_histogram(data) "
   ]
  },
  {
   "cell_type": "markdown",
   "metadata": {},
   "source": [
    "## Histograma con NumPy"
   ]
  },
  {
   "cell_type": "code",
   "execution_count": 47,
   "metadata": {},
   "outputs": [],
   "source": [
    "import numpy as np\n",
    "np.random.seed(2019) # semilla"
   ]
  },
  {
   "cell_type": "code",
   "execution_count": 48,
   "metadata": {},
   "outputs": [],
   "source": [
    "np.set_printoptions(precision=3)# configurar parametros del funcionamiento de NumPy (3 desimales)"
   ]
  },
  {
   "cell_type": "code",
   "execution_count": 49,
   "metadata": {},
   "outputs": [],
   "source": [
    "x = np.random.laplace(loc=10, scale=3 , size=1000)"
   ]
  },
  {
   "cell_type": "code",
   "execution_count": 50,
   "metadata": {},
   "outputs": [
    {
     "data": {
      "text/plain": [
       "array([14.935,  9.278, 10.855, 10.968, 14.294,  8.459, 11.555, 14.926,\n",
       "       14.316,  9.373])"
      ]
     },
     "execution_count": 50,
     "metadata": {},
     "output_type": "execute_result"
    }
   ],
   "source": [
    "x[:10]"
   ]
  },
  {
   "cell_type": "markdown",
   "metadata": {},
   "source": [
    "## Fabricar el Objecto histograma y las divisiones"
   ]
  },
  {
   "cell_type": "code",
   "execution_count": 22,
   "metadata": {},
   "outputs": [],
   "source": [
    "# fabricar el Objecto histograma y los  extremos de las divisiones\n",
    "hist, bin_edges = np.histogram(x) # hace 10 divisiones con la misma amplitud\n"
   ]
  },
  {
   "cell_type": "code",
   "execution_count": 23,
   "metadata": {},
   "outputs": [
    {
     "data": {
      "text/plain": [
       "array([  1,   0,   0,   8,  48, 194, 542, 167,  31,   9])"
      ]
     },
     "execution_count": 23,
     "metadata": {},
     "output_type": "execute_result"
    }
   ],
   "source": [
    "hist"
   ]
  },
  {
   "cell_type": "code",
   "execution_count": 24,
   "metadata": {},
   "outputs": [
    {
     "data": {
      "text/plain": [
       "array([-19.167, -14.642, -10.118,  -5.593,  -1.069,   3.455,   7.98 ,\n",
       "        12.504,  17.029,  21.553,  26.077])"
      ]
     },
     "execution_count": 24,
     "metadata": {},
     "output_type": "execute_result"
    }
   ],
   "source": [
    "bin_edges"
   ]
  },
  {
   "cell_type": "markdown",
   "metadata": {},
   "source": [
    "#### se lee asi:\n",
    "    -19.167, -14.642 hay 1 observacion \n",
    "    -14.642, -10.118 hay 0 observacion \n",
    "    -10.118,  -5.593 hay 0 observacion\n",
    "    -5.593,  -1.069  hay 8 observacion\n",
    "    "
   ]
  },
  {
   "cell_type": "code",
   "execution_count": 25,
   "metadata": {},
   "outputs": [
    {
     "data": {
      "text/plain": [
       "(10, 11)"
      ]
     },
     "execution_count": 25,
     "metadata": {},
     "output_type": "execute_result"
    }
   ],
   "source": [
    "hist.size, bin_edges.size # ver las divisione y los extremos"
   ]
  },
  {
   "cell_type": "code",
   "execution_count": 26,
   "metadata": {},
   "outputs": [
    {
     "name": "stdout",
     "output_type": "stream",
     "text": [
      "min_edge: -19.166598935481197\n",
      "max_edge: 26.077489713765466\n"
     ]
    }
   ],
   "source": [
    "min_edge = x.min()\n",
    "print(\"min_edge:\",min_edge)\n",
    "max_edge = x.max()\n",
    "print(\"max_edge:\",max_edge)"
   ]
  },
  {
   "cell_type": "code",
   "execution_count": 27,
   "metadata": {},
   "outputs": [],
   "source": [
    "n_bins = 10\n",
    "bin_edges = np.linspace(start=min_edge, stop=max_edge, num=n_bins, endpoint=True)  \n",
    "# distribucion de numeros a la misma distancia"
   ]
  },
  {
   "cell_type": "code",
   "execution_count": 28,
   "metadata": {},
   "outputs": [
    {
     "data": {
      "text/plain": [
       "array([-19.167, -14.139,  -9.112,  -4.085,   0.942,   5.969,  10.996,\n",
       "        16.023,  21.05 ,  26.077])"
      ]
     },
     "execution_count": 28,
     "metadata": {},
     "output_type": "execute_result"
    }
   ],
   "source": [
    "bin_edges"
   ]
  },
  {
   "cell_type": "code",
   "execution_count": 29,
   "metadata": {},
   "outputs": [],
   "source": [
    "x = (0,1,1,1,2,2,3,7,7,7,25)"
   ]
  },
  {
   "cell_type": "code",
   "execution_count": 30,
   "metadata": {},
   "outputs": [
    {
     "data": {
      "text/plain": [
       "array([1, 3, 2, 1, 0, 0, 0, 3, 0, 0, 0, 0, 0, 0, 0, 0, 0, 0, 0, 0, 0, 0,\n",
       "       0, 0, 0, 1])"
      ]
     },
     "execution_count": 30,
     "metadata": {},
     "output_type": "execute_result"
    }
   ],
   "source": [
    "bcount = np.bincount(x) # hace el conteio de datos\n",
    "bcount"
   ]
  },
  {
   "cell_type": "code",
   "execution_count": 31,
   "metadata": {},
   "outputs": [],
   "source": [
    "# histograma _ omite los extremos con numpy\n",
    "hist, _ = np.histogram(x, range=(0, max(x)), bins= max(x)+1)"
   ]
  },
  {
   "cell_type": "code",
   "execution_count": 32,
   "metadata": {},
   "outputs": [
    {
     "data": {
      "text/plain": [
       "array([1, 3, 2, 1, 0, 0, 0, 3, 0, 0, 0, 0, 0, 0, 0, 0, 0, 0, 0, 0, 0, 0,\n",
       "       0, 0, 0, 1])"
      ]
     },
     "execution_count": 32,
     "metadata": {},
     "output_type": "execute_result"
    }
   ],
   "source": [
    "hist"
   ]
  },
  {
   "cell_type": "code",
   "execution_count": 33,
   "metadata": {},
   "outputs": [
    {
     "data": {
      "text/plain": [
       "True"
      ]
     },
     "execution_count": 33,
     "metadata": {},
     "output_type": "execute_result"
    }
   ],
   "source": [
    "# comprobamos que son inguales\n",
    "np.array_equal(bcount, hist)"
   ]
  },
  {
   "cell_type": "code",
   "execution_count": 34,
   "metadata": {},
   "outputs": [
    {
     "data": {
      "text/plain": [
       "{0: 1, 1: 3, 2: 2, 3: 1, 7: 3, 25: 1}"
      ]
     },
     "execution_count": 34,
     "metadata": {},
     "output_type": "execute_result"
    }
   ],
   "source": [
    "dict(zip(np.unique(x),bcount[bcount.nonzero()]))  # sin ceros \n",
    "#np.unique(x) = Devuelve valores únicos del objeto Serie."
   ]
  },
  {
   "cell_type": "code",
   "execution_count": 36,
   "metadata": {},
   "outputs": [
    {
     "name": "stdout",
     "output_type": "stream",
     "text": [
      "    0 ++++++++++++++++++++\n",
      "    1 +++\n",
      "    2 +\n",
      "    3 ++\n"
     ]
    }
   ],
   "source": [
    "ascii_histogram(hist) "
   ]
  },
  {
   "cell_type": "code",
   "execution_count": 37,
   "metadata": {},
   "outputs": [
    {
     "name": "stdout",
     "output_type": "stream",
     "text": [
      "    0 ++++++++++++++++++++\n",
      "    1 +++\n",
      "    2 +\n",
      "    3 ++\n"
     ]
    }
   ],
   "source": [
    "ascii_histogram(bcount) "
   ]
  },
  {
   "cell_type": "markdown",
   "metadata": {},
   "source": [
    "## Visualizacion de histogramas con Matplotlib"
   ]
  },
  {
   "cell_type": "code",
   "execution_count": 52,
   "metadata": {},
   "outputs": [],
   "source": [
    "import matplotlib.pyplot as plt"
   ]
  },
  {
   "cell_type": "code",
   "execution_count": 53,
   "metadata": {},
   "outputs": [],
   "source": [
    "np.random.seed(2019) # semilla\n",
    "x = np.random.laplace(loc=10, scale=3 , size=1000) # distribucion de Laplace"
   ]
  },
  {
   "cell_type": "code",
   "execution_count": 68,
   "metadata": {},
   "outputs": [
    {
     "data": {
      "text/plain": [
       "(0.0, 140.0)"
      ]
     },
     "execution_count": 68,
     "metadata": {},
     "output_type": "execute_result"
    },
    {
     "data": {
      "image/png": "[encoded data removed]",
      "text/plain": [
       "<Figure size 432x288 with 1 Axes>"
      ]
     },
     "metadata": {
      "needs_background": "light"
     },
     "output_type": "display_data"
    }
   ],
   "source": [
    "# la funcion hist no dara el numero 'n', de elementos. las divisiones 'bitns' y los patches\n",
    "n, bins, patche = plt.hist(x = x, bins=\"auto\", color=\"blue\", alpha=0.75, rwidth=0.85)\n",
    "plt.grid(axis='y', alpha=0.7)\n",
    "plt.xlabel('Valor')\n",
    "plt.ylabel('frecuencia')\n",
    "plt.title('UN HISTOGRAMA DE FRECUNCIAS')\n",
    "plt.text(-10, 80, r'$\\mu = 10, b = 3$')\n",
    "maxfreg = n.max()\n",
    "plt.ylim(ymax = np.ceil(maxfreg/10)*10 if maxfreg %10 else maxfreg + 10 )"
   ]
  },
  {
   "cell_type": "code",
   "execution_count": 64,
   "metadata": {},
   "outputs": [
    {
     "data": {
      "text/plain": [
       "array([  1.,   0.,   0.,   0.,   0.,   0.,   0.,   0.,   0.,   0.,   0.,\n",
       "         0.,   0.,   0.,   0.,   0.,   0.,   0.,   0.,   0.,   3.,   0.,\n",
       "         4.,   5.,   8.,   4.,   7.,  12.,  13.,  15.,  15.,  23.,  39.,\n",
       "        53.,  62.,  81., 113., 132.,  92.,  77.,  54.,  42.,  35.,  31.,\n",
       "        20.,  14.,   9.,  10.,   3.,   5.,   5.,   4.,   3.,   1.,   2.,\n",
       "         0.,   2.,   1.])"
      ]
     },
     "execution_count": 64,
     "metadata": {},
     "output_type": "execute_result"
    }
   ],
   "source": [
    "n"
   ]
  },
  {
   "cell_type": "code",
   "execution_count": 65,
   "metadata": {},
   "outputs": [
    {
     "data": {
      "text/plain": [
       "array([-19.167, -18.387, -17.606, -16.826, -16.046, -15.266, -14.486,\n",
       "       -13.706, -12.926, -12.146, -11.366, -10.586,  -9.806,  -9.026,\n",
       "        -8.246,  -7.466,  -6.685,  -5.905,  -5.125,  -4.345,  -3.565,\n",
       "        -2.785,  -2.005,  -1.225,  -0.445,   0.335,   1.115,   1.895,\n",
       "         2.675,   3.455,   4.236,   5.016,   5.796,   6.576,   7.356,\n",
       "         8.136,   8.916,   9.696,  10.476,  11.256,  12.036,  12.816,\n",
       "        13.596,  14.376,  15.157,  15.937,  16.717,  17.497,  18.277,\n",
       "        19.057,  19.837,  20.617,  21.397,  22.177,  22.957,  23.737,\n",
       "        24.517,  25.297,  26.077])"
      ]
     },
     "execution_count": 65,
     "metadata": {},
     "output_type": "execute_result"
    }
   ],
   "source": [
    "bins"
   ]
  },
  {
   "cell_type": "code",
   "execution_count": 66,
   "metadata": {},
   "outputs": [
    {
     "data": {
      "text/plain": [
       "<a list of 58 Patch objects>"
      ]
     },
     "execution_count": 66,
     "metadata": {},
     "output_type": "execute_result"
    }
   ],
   "source": [
    "patche"
   ]
  },
  {
   "cell_type": "code",
   "execution_count": 69,
   "metadata": {},
   "outputs": [],
   "source": [
    "import pandas as pd"
   ]
  },
  {
   "cell_type": "code",
   "execution_count": 70,
   "metadata": {},
   "outputs": [],
   "source": [
    "size , scala = 1000, 10"
   ]
  },
  {
   "cell_type": "code",
   "execution_count": null,
   "metadata": {},
   "outputs": [],
   "source": []
  },
  {
   "cell_type": "code",
   "execution_count": null,
   "metadata": {},
   "outputs": [],
   "source": []
  }
 ],
 "metadata": {
  "kernelspec": {
   "display_name": "Python 3",
   "language": "python",
   "name": "python3"
  },
  "language_info": {
   "codemirror_mode": {
    "name": "ipython",
    "version": 3
   },
   "file_extension": ".py",
   "mimetype": "text/x-python",
   "name": "python",
   "nbconvert_exporter": "python",
   "pygments_lexer": "ipython3",
   "version": "3.7.4"
  }
 },
 "nbformat": 4,
 "nbformat_minor": 2
}
