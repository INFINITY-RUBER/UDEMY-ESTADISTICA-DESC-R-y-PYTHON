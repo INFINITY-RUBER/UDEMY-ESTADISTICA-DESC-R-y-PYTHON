{
 "cells": [
  {
   "cell_type": "markdown",
   "metadata": {},
   "source": [
    "# FUNCIONES EN PYTHON"
   ]
  },
  {
   "cell_type": "code",
   "execution_count": 4,
   "metadata": {},
   "outputs": [],
   "source": [
    "def suma(x, y):\n",
    "    return x + y    "
   ]
  },
  {
   "cell_type": "code",
   "execution_count": 5,
   "metadata": {},
   "outputs": [],
   "source": [
    "class Operacion(object):\n",
    "    def suma(self, x, y):\n",
    "        self.resultado = x+y\n",
    "        return self.resultado\n",
    "    "
   ]
  },
  {
   "cell_type": "code",
   "execution_count": 8,
   "metadata": {},
   "outputs": [
    {
     "data": {
      "text/plain": [
       "5"
      ]
     },
     "execution_count": 8,
     "metadata": {},
     "output_type": "execute_result"
    }
   ],
   "source": [
    "suma(2,3)"
   ]
  },
  {
   "cell_type": "code",
   "execution_count": 9,
   "metadata": {},
   "outputs": [
    {
     "data": {
      "text/plain": [
       "5"
      ]
     },
     "execution_count": 9,
     "metadata": {},
     "output_type": "execute_result"
    }
   ],
   "source": [
    "instancia  = Operacion()\n",
    "instancia.suma(2,3)"
   ]
  },
  {
   "cell_type": "code",
   "execution_count": 20,
   "metadata": {},
   "outputs": [],
   "source": [
    "def saludar():\n",
    "    name = str(input('ingrese nombre: '))\n",
    "    if name:\n",
    "        print('hola '+ name)\n",
    "    else:\n",
    "        print('Estoy programando')    "
   ]
  },
  {
   "cell_type": "code",
   "execution_count": 21,
   "metadata": {},
   "outputs": [
    {
     "name": "stdout",
     "output_type": "stream",
     "text": [
      "ingrese nombre: \n",
      "Estoy programando\n"
     ]
    }
   ],
   "source": [
    "saludar()"
   ]
  },
  {
   "cell_type": "code",
   "execution_count": 23,
   "metadata": {},
   "outputs": [
    {
     "data": {
      "text/plain": [
       "25"
      ]
     },
     "execution_count": 23,
     "metadata": {},
     "output_type": "execute_result"
    }
   ],
   "source": [
    "suma(2,3)*5"
   ]
  },
  {
   "cell_type": "code",
   "execution_count": 35,
   "metadata": {},
   "outputs": [],
   "source": [
    "def buscarPares():\n",
    "    for x in range(10):\n",
    "        if x % 2 == 0:\n",
    "            print('par: '+ str(x))\n",
    "    print('fin de proceso')\n",
    "    "
   ]
  },
  {
   "cell_type": "code",
   "execution_count": 36,
   "metadata": {},
   "outputs": [
    {
     "name": "stdout",
     "output_type": "stream",
     "text": [
      "par: 0\n",
      "par: 2\n",
      "par: 4\n",
      "par: 6\n",
      "par: 8\n",
      "fin de proceso\n"
     ]
    }
   ],
   "source": [
    "buscarPares()"
   ]
  },
  {
   "cell_type": "code",
   "execution_count": 41,
   "metadata": {},
   "outputs": [],
   "source": [
    "def SumaResta(x,y):\n",
    "    suma = x+y\n",
    "    resta = x-y\n",
    "    return (suma, resta)"
   ]
  },
  {
   "cell_type": "code",
   "execution_count": 43,
   "metadata": {},
   "outputs": [
    {
     "data": {
      "text/plain": [
       "(6, 0)"
      ]
     },
     "execution_count": 43,
     "metadata": {},
     "output_type": "execute_result"
    }
   ],
   "source": [
    "SumaResta(3,3)"
   ]
  },
  {
   "cell_type": "code",
   "execution_count": 2,
   "metadata": {},
   "outputs": [],
   "source": [
    "def SumaResta1(x,y=0):\n",
    "    suma = x+y\n",
    "    resta = x-y\n",
    "    return (suma, resta)"
   ]
  },
  {
   "cell_type": "code",
   "execution_count": 3,
   "metadata": {},
   "outputs": [
    {
     "data": {
      "text/plain": [
       "(5, 5)"
      ]
     },
     "execution_count": 3,
     "metadata": {},
     "output_type": "execute_result"
    }
   ],
   "source": [
    "SumaResta1(5)"
   ]
  },
  {
   "cell_type": "code",
   "execution_count": 12,
   "metadata": {},
   "outputs": [],
   "source": [
    "# SUMA SIN ARGUMENTOS DEFINIDOS\n",
    "def suma(*args):\n",
    "    return sum(args)"
   ]
  },
  {
   "cell_type": "code",
   "execution_count": 13,
   "metadata": {},
   "outputs": [
    {
     "data": {
      "text/plain": [
       "9"
      ]
     },
     "execution_count": 13,
     "metadata": {},
     "output_type": "execute_result"
    }
   ],
   "source": [
    "suma(2,3,4)"
   ]
  },
  {
   "cell_type": "code",
   "execution_count": 50,
   "metadata": {},
   "outputs": [
    {
     "data": {
      "text/plain": [
       "97"
      ]
     },
     "execution_count": 50,
     "metadata": {},
     "output_type": "execute_result"
    }
   ],
   "source": [
    "suma(1,23,43,4,5,6,7,8)"
   ]
  },
  {
   "cell_type": "code",
   "execution_count": 4,
   "metadata": {},
   "outputs": [],
   "source": [
    "def sumacuadrado(*datos):\n",
    "    total = 0\n",
    "    for d in datos:\n",
    "        total +=  d**2  # d^2\n",
    "       # total = total + d**2  # d^2\n",
    "    return total"
   ]
  },
  {
   "cell_type": "code",
   "execution_count": 5,
   "metadata": {},
   "outputs": [
    {
     "data": {
      "text/plain": [
       "14"
      ]
     },
     "execution_count": 5,
     "metadata": {},
     "output_type": "execute_result"
    }
   ],
   "source": [
    "sumacuadrado(1,2,3)"
   ]
  },
  {
   "cell_type": "code",
   "execution_count": 60,
   "metadata": {},
   "outputs": [
    {
     "data": {
      "text/plain": [
       "262.2389"
      ]
     },
     "execution_count": 60,
     "metadata": {},
     "output_type": "execute_result"
    }
   ],
   "source": [
    "sumacuadrado(2.5,3.5,8.9,-2,12.67)"
   ]
  },
  {
   "cell_type": "markdown",
   "metadata": {},
   "source": [
    "# FUNCIONES ANONIMAS"
   ]
  },
  {
   "cell_type": "code",
   "execution_count": 6,
   "metadata": {},
   "outputs": [],
   "source": [
    "doble = lambda x: x*2"
   ]
  },
  {
   "cell_type": "code",
   "execution_count": 7,
   "metadata": {},
   "outputs": [
    {
     "data": {
      "text/plain": [
       "8"
      ]
     },
     "execution_count": 7,
     "metadata": {},
     "output_type": "execute_result"
    }
   ],
   "source": [
    "doble(4)"
   ]
  },
  {
   "cell_type": "code",
   "execution_count": 64,
   "metadata": {},
   "outputs": [],
   "source": [
    "cuadrado = lambda x: x**2"
   ]
  },
  {
   "cell_type": "code",
   "execution_count": 65,
   "metadata": {},
   "outputs": [
    {
     "data": {
      "text/plain": [
       "25"
      ]
     },
     "execution_count": 65,
     "metadata": {},
     "output_type": "execute_result"
    }
   ],
   "source": [
    "cuadrado(5)"
   ]
  },
  {
   "cell_type": "code",
   "execution_count": 66,
   "metadata": {},
   "outputs": [],
   "source": [
    "sumaland = lambda x,y: x+y"
   ]
  },
  {
   "cell_type": "code",
   "execution_count": 67,
   "metadata": {},
   "outputs": [
    {
     "data": {
      "text/plain": [
       "5"
      ]
     },
     "execution_count": 67,
     "metadata": {},
     "output_type": "execute_result"
    }
   ],
   "source": [
    "sumaland(2,3)"
   ]
  },
  {
   "cell_type": "code",
   "execution_count": 8,
   "metadata": {},
   "outputs": [],
   "source": [
    "# HERRAMIENTAS DE FUNCIONES:\n",
    "from functools import reduce"
   ]
  },
  {
   "cell_type": "code",
   "execution_count": 9,
   "metadata": {},
   "outputs": [],
   "source": [
    "data = [1,2,3,4,5,6,7,8,9,10]"
   ]
  },
  {
   "cell_type": "code",
   "execution_count": 10,
   "metadata": {},
   "outputs": [],
   "source": [
    "filter_data = list(filter(lambda x: (x*2>8), data))"
   ]
  },
  {
   "cell_type": "code",
   "execution_count": 11,
   "metadata": {},
   "outputs": [
    {
     "data": {
      "text/plain": [
       "[5, 6, 7, 8, 9, 10]"
      ]
     },
     "execution_count": 11,
     "metadata": {},
     "output_type": "execute_result"
    }
   ],
   "source": [
    "filter_data"
   ]
  },
  {
   "cell_type": "code",
   "execution_count": 72,
   "metadata": {},
   "outputs": [],
   "source": [
    "mapped_data = list(map(lambda x: x*2, data))"
   ]
  },
  {
   "cell_type": "code",
   "execution_count": 73,
   "metadata": {},
   "outputs": [
    {
     "data": {
      "text/plain": [
       "[2, 4, 6, 8, 10, 12, 14, 16, 18, 20]"
      ]
     },
     "execution_count": 73,
     "metadata": {},
     "output_type": "execute_result"
    }
   ],
   "source": [
    "mapped_data"
   ]
  },
  {
   "cell_type": "code",
   "execution_count": 74,
   "metadata": {},
   "outputs": [],
   "source": [
    "reduced_data = reduce(lambda x, y: x+y, data)"
   ]
  },
  {
   "cell_type": "code",
   "execution_count": 75,
   "metadata": {},
   "outputs": [
    {
     "data": {
      "text/plain": [
       "55"
      ]
     },
     "execution_count": 75,
     "metadata": {},
     "output_type": "execute_result"
    }
   ],
   "source": [
    "reduced_data\n"
   ]
  },
  {
   "cell_type": "markdown",
   "metadata": {},
   "source": [
    "# TAREA"
   ]
  },
  {
   "cell_type": "markdown",
   "metadata": {},
   "source": [
    "**1. Escribe una secuencia de instrucciones que permitan leer un número real por pantalla y que muestre si el número es positivo o no**"
   ]
  },
  {
   "cell_type": "code",
   "execution_count": 77,
   "metadata": {},
   "outputs": [
    {
     "name": "stdout",
     "output_type": "stream",
     "text": [
      "escribe un numero : -3\n",
      "NUMERO ES NEGATIVO\n"
     ]
    }
   ],
   "source": [
    "num = int(input('escribe un numero : '))\n",
    "if num > 0:\n",
    "    print('NUMERO ES POSITIVO')\n",
    "else:\n",
    "    print('NUMERO ES NEGATIVO')\n",
    "    "
   ]
  },
  {
   "cell_type": "markdown",
   "metadata": {},
   "source": [
    "**2. Escribe una secuencia de instrucciones que permitan leer un número real por pantalla y que muestre si el número está en el rango entre -5 y 5**"
   ]
  },
  {
   "cell_type": "code",
   "execution_count": 85,
   "metadata": {},
   "outputs": [
    {
     "name": "stdout",
     "output_type": "stream",
     "text": [
      "escribe un numero : 6\n",
      "NO esta en el rango  -5 y 5\n"
     ]
    }
   ],
   "source": [
    "num = int(input('escribe un numero : '))\n",
    "if num >= -5 and num <= 5  :\n",
    "    print('esta entre el rango  -5 y 5')\n",
    "else:\n",
    "    print('NO esta en el rango  -5 y 5')"
   ]
  },
  {
   "cell_type": "markdown",
   "metadata": {},
   "source": [
    "**3. Escribe una secuencia de instrucciones que permitan leer las coordenadas de un punto (x, y) e indique en cuál de los cuatro cuadrantes se encuentra dicho punto**"
   ]
  },
  {
   "cell_type": "code",
   "execution_count": 92,
   "metadata": {},
   "outputs": [
    {
     "name": "stdout",
     "output_type": "stream",
     "text": [
      "escribe coordenada X: 0\n",
      "escribe coordenada Y: 0\n",
      "te encuentras en el centro del plano\n"
     ]
    }
   ],
   "source": [
    "x = int(input(\"escribe coordenada X: \"))\n",
    "y = int(input(\"escribe coordenada Y: \"))\n",
    "mensaje = ''\n",
    "if x==0 and y==0:\n",
    "    mensaje = 'te encuentras en el centro del plano'\n",
    "elif x==0 and y!=0:\n",
    "    mensaje = 'te encuentras sobre el eje Y'\n",
    "elif x!=0 and y==0:\n",
    "    mensaje = 'te encuentras sobre el eje X'\n",
    "elif x>0 and y>0:\n",
    "    mensaje = 'te encuentras en el cuadrante 1, ++'\n",
    "elif x<0 and y>0:\n",
    "    mensaje = \"te encuentras en el cuadrante 2, -+\"\n",
    "elif x<0 and y<0:\n",
    "    mensaje = \"te encuentras en el cuadrante 3, --\"\n",
    "elif x>0 and y<0:\n",
    "    mensaje = \"te encuentras en el cuadrante 4, +-\"      \n",
    "print(mensaje)\n",
    "\n"
   ]
  },
  {
   "cell_type": "markdown",
   "metadata": {},
   "source": [
    "**4. Escribe una secuencia de instrucciones que permitan leer dos números enteros y muestre el cociente de la división entera y el resto.**"
   ]
  },
  {
   "cell_type": "code",
   "execution_count": 94,
   "metadata": {},
   "outputs": [
    {
     "name": "stdout",
     "output_type": "stream",
     "text": [
      "escribe coordenada X: 5\n",
      "escribe coordenada Y: 2\n",
      "Parte entera de la división de x/y es = 2\n",
      "Parte residual de la división es = 1\n"
     ]
    }
   ],
   "source": [
    "x = int(input(\"escribe numero X: \"))\n",
    "y = int(input(\"escribe numero Y: \"))\n",
    "try:\n",
    "    resEntero = x//y\n",
    "    resto = x%y\n",
    "    print('Parte entera de la división de x/y es = '+ str(resEntero))\n",
    "    print('Parte residual de la división es = '+ str(resto))    \n",
    "except:\n",
    "    print(\"Introduce datos validos\")"
   ]
  },
  {
   "cell_type": "markdown",
   "metadata": {},
   "source": [
    "**5. Escribe una secuencia de instrucciones que permitan leer un número entero es cuadrado perfecto o no (piensa la mejor forma de hacerlo con lo que has aprendido hasta ahora)**"
   ]
  },
  {
   "cell_type": "code",
   "execution_count": 103,
   "metadata": {},
   "outputs": [
    {
     "name": "stdout",
     "output_type": "stream",
     "text": [
      "escribe numero entero: 9\n",
      "El número ingresado es un cuadrado perfecto \n"
     ]
    }
   ],
   "source": [
    "import math\n",
    "x = int(input(\"escribe numero entero: \"))\n",
    "\n",
    "y = int(math.sqrt(x))    \n",
    "if y*y == x:\n",
    "    print('El número ingresado es un cuadrado perfecto ')\n",
    "else:\n",
    "    print('El número ingresado NO es cuadrado perfecto')\n",
    "        "
   ]
  },
  {
   "cell_type": "markdown",
   "metadata": {},
   "source": [
    "**6. Escribe una expresión que permita determinar si un número entero positivo puede corresponder a un año bisiesto o no. Se consideran años bisiestos aquellos cuyo número es divisible por cuatro excepto los años que son múltiplos de 100, a no ser que lo sean de 400 (por ejemplo el año 2000 fue bisiesto pero el 2100 no lo será).**"
   ]
  },
  {
   "cell_type": "code",
   "execution_count": 106,
   "metadata": {},
   "outputs": [
    {
     "name": "stdout",
     "output_type": "stream",
     "text": [
      "escribe numero entero: 2100\n",
      "El año no es bisiesto\n"
     ]
    }
   ],
   "source": [
    "x = int(input(\"escribe numero entero: \"))\n",
    "if x % 4 == 0  and  (x % 100 != 0  or  x % 400 == 0):\n",
    "    print(\"El año es bisiesto\")\n",
    "else:\n",
    "    print(\"El año no es bisiesto\")"
   ]
  },
  {
   "cell_type": "markdown",
   "metadata": {},
   "source": [
    "**7. Busca la imagen de un tablero de ajedrez en Google y fíjate en la nomenclatura de las casillas. Escribe una expresión lea una letra y un número de teclado correspondiente a una casilla de un tablero de ajedrez y nos indique si esta casilla es negra o blanca**"
   ]
  },
  {
   "cell_type": "code",
   "execution_count": 108,
   "metadata": {},
   "outputs": [
    {
     "name": "stdout",
     "output_type": "stream",
     "text": [
      "escribe letra entre a y h: e\n",
      "escribe numero entre 1 - 8 : 5\n",
      "La casilla es negra\n"
     ]
    }
   ],
   "source": [
    "letra = (input(\"escribe letra entre a y h: \"))\n",
    "number = int(input(\"escribe numero entre 1 - 8 : \"))\n",
    "lista1=[\"b\",\"d\",\"f\",\"h\"]\n",
    "lista2=[\"a\",\"c\",\"e\",\"g\"]\n",
    "if (letra not in lista1 and letra not in lista2) or (number>8 or number<1):\n",
    "        print(\"no es valida la casilla ingresada\")\n",
    "elif (letra in lista1   and number%2==0) or (letra in lista2 and number%2!=0):\n",
    "        print(\"La casilla es negra\")\n",
    "else:\n",
    "        print(\"La casilla es blanca\")"
   ]
  },
  {
   "cell_type": "code",
   "execution_count": null,
   "metadata": {},
   "outputs": [],
   "source": []
  }
 ],
 "metadata": {
  "kernelspec": {
   "display_name": "Python 3",
   "language": "python",
   "name": "python3"
  },
  "language_info": {
   "codemirror_mode": {
    "name": "ipython",
    "version": 3
   },
   "file_extension": ".py",
   "mimetype": "text/x-python",
   "name": "python",
   "nbconvert_exporter": "python",
   "pygments_lexer": "ipython3",
   "version": "3.7.4"
  }
 },
 "nbformat": 4,
 "nbformat_minor": 2
}
