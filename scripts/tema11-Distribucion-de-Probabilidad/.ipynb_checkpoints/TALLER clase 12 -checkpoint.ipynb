{
 "cells": [
  {
   "cell_type": "markdown",
   "metadata": {},
   "source": [
    "**En una universidad, se sabe que el 25% de los alumnos realizan algún tipo de deporte. Se ha obtenido una muestra de 30 alumnos.**\n",
    "\n",
    "**a) Si llamamos X a la variable aleatoria que cuenta el número de alumnos que realizan algún tipo de deporte, ¿qué tipo de distribución sigue X?**\n",
    "\n",
    "**b) ¿Qué esperanza tiene X?**\n",
    "\n",
    "**c) ¿Y varianza?**\n",
    "\n",
    "**d) Calcula con R (o Python) la probabilidad de que más de 25 alumnos practiquen algún deporte.**\n",
    "\n",
    "**e) Calcula con R (o Python) la probabilidad de que exactamente 15 alumnos practiquen algún deporte.**\n",
    "\n",
    "**f) Calcula con R (o Python) la probabilidad de que de 10 alumnos o menos practiquen algún deporte.**"
   ]
  },
  {
   "cell_type": "code",
   "execution_count": 27,
   "metadata": {},
   "outputs": [
    {
     "name": "stdout",
     "output_type": "stream",
     "text": [
      "b) E(X) = n*p:  7.5\n",
      "c) Var(X) = npq = np(1-p) : 5.625\n",
      "d) 1 - binom.cdf(25,30, 0.25): 2.0239365738916604e-12\n",
      "e) binom.pmf(15, 30, 0.25): 0.001930545019463071\n",
      "f) binom.cdf(10,30,0.25): 0.8942718773073399\n"
     ]
    }
   ],
   "source": [
    "from scipy.stats import binom \n",
    "import matplotlib.pyplot as plt\n",
    "\n",
    "n = 30\n",
    "p = 0.25   # = 25%\n",
    "\n",
    "# a) distribución binomial, en la que el número de éxitos es el número de alumnos que realizan deporte.\n",
    "\n",
    "# b) E(X) = n*p = 7.5\n",
    "print(\"b) E(X) = n*p: \",n*p)\n",
    "\n",
    "# c) Var(X) = npq = np(1-p) \n",
    "print(\"c) Var(X) = npq = np(1-p) :\", n*p*(1 - p))\n",
    "\n",
    "# d) la probabilidad de que más de 25 alumnos practiquen algún deporte.\n",
    "d = 1 - binom.cdf(25,30, 0.25)\n",
    "print(\"d) 1 - binom.cdf(25,30, 0.25):\", d)\n",
    "\n",
    "# e) la probabilidad de que exactamente 15 alumnos practiquen algún deporte.\n",
    "e = binom.pmf(15, 30, 0.25)\n",
    "print(\"e) binom.pmf(15, 30, 0.25):\", e)\n",
    "$$( X \\sim B(30,0.25))$$\n",
    "\n",
    "# f) la probabilidad de que de 10 alumnos o menos practiquen algún deporte.\n",
    "f = binom.cdf(10,30,0.25)\n",
    "print(\"f) binom.cdf(10,30,0.25):\", f)"
   ]
  },
  {
   "cell_type": "markdown",
   "metadata": {},
   "source": [
    "**El número medio de accidentes de coche en la ciudad de Mahón en 2 meses es de 2 accidentes.**\n",
    "\n",
    "**a) ¿Qué distribución sigue la v.a. que cuenta el número de accidentes en 2 meses?**\n",
    "\n",
    "**b) Calcula la esperanza**\n",
    "\n",
    "**c) Calcula con R (o Python) la probabilidad de que no ocurra ningún accidente en 2 meses.**"
   ]
  },
  {
   "cell_type": "code",
   "execution_count": 33,
   "metadata": {},
   "outputs": [
    {
     "name": "stdout",
     "output_type": "stream",
     "text": [
      "poisson.ppf(0.0, 2)= -1.0\n"
     ]
    }
   ],
   "source": [
    "from scipy.stats import poisson\n",
    "# a)  ya que se refiere a consecuencia a  tiempo sigue la distribución de Poisson ya que se mide el número de accidentes en un cierto intervalo de tiempo (2 meses) \n",
    " \n",
    "# b) la esperanza E(x) = 2\n",
    "\n",
    "# c) la probabilidad de que no ocurra ningún accidente en 2 meses\n",
    "poisson.ppf(0.0, 2)\n",
    "print(\"poisson.ppf(0.0, 2)=\", poisson.ppf(0.0, 2))\n"
   ]
  },
  {
   "cell_type": "markdown",
   "metadata": {},
   "source": [
    "**El 40% de un pueblo a las afueras de la ciudad de Pensilvania ve un concurso que dan por la tele. El concurso llama por teléfono a 15 personas del pueblo elegidas al azar. ¿De qué distribución se trata?**"
   ]
  },
  {
   "cell_type": "code",
   "execution_count": 35,
   "metadata": {},
   "outputs": [],
   "source": [
    "# sigue a una distribucion Binomial ya que el concurso llama al azar a 15 de 40% del pueblo\n",
    "\n",
    "# $$( X \\sim B(15,0.4))$$"
   ]
  },
  {
   "cell_type": "markdown",
   "metadata": {},
   "source": [
    "**En un bol muy grande tenemos, en total, 70 fresas, de entre las cuales 10 están podridas. Tomando un puñado de 20 fresas al azar y sin reemplazar ninguna de ellas, ¿qué distribución sigue la v.a. que cuenta el número de fresas podridas?**\n",
    "\n",
    "**Da también la esperanza y la varianza de esta variable aleatoria.**"
   ]
  },
  {
   "cell_type": "code",
   "execution_count": 50,
   "metadata": {},
   "outputs": [
    {
     "name": "stdout",
     "output_type": "stream",
     "text": [
      "Esperanza: 2.857143\n",
      "Varianza: 1.774623\n"
     ]
    }
   ],
   "source": [
    "# La distribucion es la Hipergeometrica\n",
    "from scipy.stats import hypergeom\n",
    "M = 70 # TOTAL DE FRESAS\n",
    "n = 10 # fresas dañadas\n",
    "N = 20 # Numero de intentos al azar\n",
    "\n",
    "rv = hypergeom(M, n, N)\n",
    "mean, var = rv.stats(moments = 'mv')\n",
    "print(\"Esperanza: %f\"%mean)\n",
    "print(\"Varianza: %f\"%var)"
   ]
  },
  {
   "cell_type": "markdown",
   "metadata": {},
   "source": [
    "**Un test de matemáticas consta de 200 preguntas de verdadero o falso. Para una persona que respondiese al azar, ¿qué distribución seguiría la v.a. que cuenta el número de preguntas acertadas?\n",
    "Da también la esperanza y la varianza de esta variable aleatoria.**"
   ]
  },
  {
   "cell_type": "code",
   "execution_count": 53,
   "metadata": {},
   "outputs": [
    {
     "name": "stdout",
     "output_type": "stream",
     "text": [
      "Esperanza: 100.000000\n",
      "Varianza: 50.000000\n"
     ]
    }
   ],
   "source": [
    "# La v.a discreta sigue una distribución binomial con una probabilidad de 0.5\n",
    "\n",
    "from scipy.stats import binom \n",
    "n = 200\n",
    "p = 0.5\n",
    "\n",
    "mean, var = binom.stats(n, p, moments = 'mv')\n",
    "print(\"Esperanza: %f\"%mean)\n",
    "print(\"Varianza: %f\"%var)"
   ]
  },
  {
   "cell_type": "markdown",
   "metadata": {},
   "source": [
    "**Un test de matemáticas consta de 200 preguntas. Cada pregunta consta de 4 posibles respuestas con solo una correcta. Para una persona que respondiese al azar, ¿qué distribución seguiría la v.a. que cuenta el número de preguntas acertadas?\n",
    "Da también la esperanza y la varianza de esta variable aleatoria.**"
   ]
  },
  {
   "cell_type": "code",
   "execution_count": 55,
   "metadata": {},
   "outputs": [
    {
     "name": "stdout",
     "output_type": "stream",
     "text": [
      "Esperanza: 50.000000\n",
      "Varianza: 37.500000\n"
     ]
    }
   ],
   "source": [
    "# La v.a discreta sigue una distribución. Es binomial con una probabilidad de 0.25\n",
    "from scipy.stats import binom \n",
    "n = 200\n",
    "p = 0.25\n",
    "\n",
    "ex, var = binom.stats(n, p, moments = 'mv')\n",
    "print(\"Esperanza: %f\"%ex)\n",
    "print(\"Varianza: %f\"%var)"
   ]
  },
  {
   "cell_type": "markdown",
   "metadata": {},
   "source": [
    "**7. Un test de matemáticas consta de 200 preguntas de verdadero o falso. Para una persona que respondiese al azar y por orden, ¿qué distribución seguiría la v.a. que cuenta el número de preguntas respondidas hasta el primer acierto?\n",
    "Da también la esperanza y la varianza de esta variable aleatoria.**"
   ]
  },
  {
   "cell_type": "code",
   "execution_count": 57,
   "metadata": {},
   "outputs": [
    {
     "name": "stdout",
     "output_type": "stream",
     "text": [
      "Esperanza: 2.000000\n",
      "Varianza: 2.000000\n"
     ]
    }
   ],
   "source": [
    "# La v.a sigue una distribución. Geométrica con una probabilidad de 0.5\n",
    "from scipy.stats import geom\n",
    "p = 0.5\n",
    "ex, var = geom.stats(p, moments = 'mv')\n",
    "print(\"Esperanza: %f\"%ex)\n",
    "print(\"Varianza: %f\"%var)"
   ]
  },
  {
   "cell_type": "markdown",
   "metadata": {},
   "source": [
    "**8. Para evitar ser arrestado al pasar el control de seguridad, un viajero ha colocado 7 pastillas de droga en una botella que contiene 14 píldoras de vitaminas, las cuales son muy similares a las otras. Si el policía de turno selecciona 4 pastillas aleatoriamente para analizarlas, ¿qué distribución sigue la v.a. que cuenta el número de pastillas de droga?**"
   ]
  },
  {
   "cell_type": "code",
   "execution_count": 61,
   "metadata": {},
   "outputs": [
    {
     "name": "stdout",
     "output_type": "stream",
     "text": [
      "Esperanza: 2.000000\n",
      "Varianza: 0.769231\n"
     ]
    }
   ],
   "source": [
    "# La v.a discreta sigue una distribución hipergeométrica \n",
    "from scipy.stats import hypergeom\n",
    "\n",
    "M = 14 #Total pastillas\n",
    "N = 4 # Numero de intentos al azar\n",
    "n = 7 # pastillas droga\n",
    "\n",
    "ex, var = hypergeom.stats(M, n, N, moments = 'mv')\n",
    "print(\"Esperanza: %f\"%ex)\n",
    "print(\"Varianza: %f\"%var)"
   ]
  },
  {
   "cell_type": "code",
   "execution_count": null,
   "metadata": {},
   "outputs": [],
   "source": []
  }
 ],
 "metadata": {
  "kernelspec": {
   "display_name": "Python 3",
   "language": "python",
   "name": "python3"
  },
  "language_info": {
   "codemirror_mode": {
    "name": "ipython",
    "version": 3
   },
   "file_extension": ".py",
   "mimetype": "text/x-python",
   "name": "python",
   "nbconvert_exporter": "python",
   "pygments_lexer": "ipython3",
   "version": "3.7.4"
  }
 },
 "nbformat": 4,
 "nbformat_minor": 4
}
