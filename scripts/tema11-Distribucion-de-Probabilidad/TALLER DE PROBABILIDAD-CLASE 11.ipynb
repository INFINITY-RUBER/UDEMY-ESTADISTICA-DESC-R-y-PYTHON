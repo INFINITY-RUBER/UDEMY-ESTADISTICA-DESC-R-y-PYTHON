{
 "cells": [
  {
   "cell_type": "markdown",
   "metadata": {},
   "source": [
    "**Preguntas de esta tarea**\n",
    "\n",
    "   **1 . La cantidad de tiempo (en horas) utilizada para completar un producto determinado sigue una distribución   N(10, 2) . Calculad la probabilidad de que se tarde:**\n",
    "   \n",
    "    - a) Menos de 6 horas\n",
    "    - b) Entre 7 y 13 horas\n",
    "    - Estandarizad y luego calculad la probabilidad requerida mediante las tablas y comprobad vuestro resultado en R (o Python)**"
   ]
  },
  {
   "cell_type": "code",
   "execution_count": 27,
   "metadata": {},
   "outputs": [
    {
     "name": "stdout",
     "output_type": "stream",
     "text": [
      "Menos de 6 horas: 2.280000 %\n",
      "Entre 7 y 13 horas: 86.640000 %\n"
     ]
    }
   ],
   "source": [
    "from scipy.stats import norm\n",
    "\n",
    "n1=norm(10,2)\n",
    "\n",
    "# - a) Menos de 6 horas\n",
    "a = (round((n1.cdf(6)*100),2))\n",
    "print(\"Menos de 6 horas: %f\"%a , \"%\")\n",
    "\n",
    "#  - b) Entre 7 y 13 horas\n",
    "b = round(((n1.cdf(13)-n1.cdf(7))*100),2)\n",
    "print(\"Entre 7 y 13 horas: %f\"%b , \"%\")"
   ]
  },
  {
   "cell_type": "markdown",
   "metadata": {},
   "source": [
    "\n",
    "**2. El valor (en millones) de las ventas anuales realizadas en la Discográfica \"Hasta quedarnos sin tímpanos\" sigue un modelo normal de media igual a 200 y desviación tíıpica igual a 40.**\n",
    "\n",
    "    - Estandarizad y luego calculad la probabilidad requerida mediante las tablas y comprobad vuestro resultado en R (o Python)  \n",
    "\n",
    "    - a) Calcula la probabilidad de que el número de ventas sea exactamente igual a 200 (millones)\n",
    "   **es Cero por que en una variable continua $ p (X=x)= 0$** "
   ]
  },
  {
   "cell_type": "markdown",
   "metadata": {},
   "source": [
    "    - b) Calcula la probabilidad de que el número de ventas sea mayor que 250 (millones)"
   ]
  },
  {
   "cell_type": "code",
   "execution_count": 16,
   "metadata": {},
   "outputs": [
    {
     "name": "stdout",
     "output_type": "stream",
     "text": [
      "Probabilidad > 250 (millones): 10.560000 %\n"
     ]
    }
   ],
   "source": [
    "from scipy.stats import norm\n",
    "\n",
    "n2=norm(200,40)\n",
    "\n",
    "b = round(((1 - n2.cdf(250))*100),2)\n",
    "print(\"Probabilidad > 250 (millones): %f\" %b, \"%\")"
   ]
  },
  {
   "cell_type": "markdown",
   "metadata": {},
   "source": [
    "    - c) Calcula la probabilidad de que el número de ventas sea menor o igual que 100 (millones)"
   ]
  },
  {
   "cell_type": "code",
   "execution_count": 19,
   "metadata": {},
   "outputs": [
    {
     "name": "stdout",
     "output_type": "stream",
     "text": [
      "Probabilidad >= 100 (millones): 0.620000 %\n"
     ]
    }
   ],
   "source": [
    "c = round((n2.cdf(100)*100),2)\n",
    "print(\"Probabilidad >= 100 (millones): %f\" %c, \"%\")"
   ]
  },
  {
   "cell_type": "markdown",
   "metadata": {},
   "source": [
    "  "
   ]
  },
  {
   "cell_type": "markdown",
   "metadata": {},
   "source": [
    "**Las puntuaciones obtenidas en un examen tipo test realizado a un grupo de opositores se distribuyen normalmente con media 50 y desviación típica 6.5. Calculad**\n",
    "\n",
    "    a) Probabilidad de tener una puntuación menor a 23 puntos.\n",
    "\n",
    "    b) Probabilidad de tener entre 27.3 y 43.1 puntos\n",
    "\n",
    "    c) Probabilidad de tener más de 62 puntos\n",
    "\n",
    "    d) Probabilidad de tener 3.2 puntos o menos\n",
    "\n",
    "    e) Hallad el número de puntos que se deben obtener para que la probabilidad de sacar menos de esa cantidad de puntos sea de 0.045\n",
    "\n",
    "    f) Repetid el apartado anterior, pero esta vez para obtener una probabilidad de 0.45\n",
    "\n",
    "    Estandarizad y luego calculad la probabilidad requerida mediante las tablas y comprobad vuestro resultado en R (o Python)** "
   ]
  },
  {
   "cell_type": "code",
   "execution_count": 21,
   "metadata": {},
   "outputs": [],
   "source": [
    "from scipy.stats import norm\n",
    "n3=norm(50,6.5)"
   ]
  },
  {
   "cell_type": "code",
   "execution_count": 37,
   "metadata": {},
   "outputs": [
    {
     "name": "stdout",
     "output_type": "stream",
     "text": [
      "Probabilidad de puntuación < 23: 0.000000 %\n",
      "Probabilidad de tener entre 27.3 y 43.1 puntos: 14.400000 %\n",
      "Probabilidad de tener más de 62 puntos: 3.240000 %\n",
      "Probabilidad de tener 3.2 puntos o menos : 0.000000 %\n",
      "el número de puntos < 0.045 : 39.000000\n",
      "el número de puntos > 0.45 : 49.200000\n"
     ]
    }
   ],
   "source": [
    "# a) Probabilidad de tener una puntuación menor a 23 puntos.\n",
    "a = round(((n3.cdf(23))*100),2)\n",
    "print(\"Probabilidad de puntuación < 23: %f\" %a, \"%\")\n",
    "\n",
    "# b) La probabilidad de tener entre 27.3 y 43.1 puntos es \n",
    "b = round((n3.cdf(43.1) - n3.cdf(27.3))*100,2)\n",
    "print(\"Probabilidad de tener entre 27.3 y 43.1 puntos: %f\" %b, \"%\")\n",
    "\n",
    "# c) La probabilidad de  tener más de 62 puntos es\n",
    "c = round(((1 - n3.cdf(62))*100),2)\n",
    "print(\"Probabilidad de tener más de 62 puntos: %f\" %c, \"%\")\n",
    "\n",
    "# d) La probabilidad de tener 3.2 puntos o menos  es\n",
    "d = round((n3.cdf(3.2)*100),2)\n",
    "print(\"Probabilidad de tener 3.2 puntos o menos : %f\" %d, \"%\")\n",
    "\n",
    "# f) Hallad el número de puntos que se deben obtener para que la probabilidad de sacar menos de esa cantidad de puntos sea de 0.045\n",
    "f = round(n3.ppf(0.045),1)\n",
    "print(\"el número de puntos < 0.045 : %f\" %f)\n",
    "\n",
    "# e) el número de puntos que se deben obtener para que la probabilidad de sacar menos una probabilidad de 0.45\n",
    "e = round(n3.ppf(0.45),1)\n",
    "print(\"el número de puntos > 0.45 : %f\" %e)"
   ]
  },
  {
   "cell_type": "code",
   "execution_count": null,
   "metadata": {},
   "outputs": [],
   "source": []
  }
 ],
 "metadata": {
  "kernelspec": {
   "display_name": "Python 3",
   "language": "python",
   "name": "python3"
  },
  "language_info": {
   "codemirror_mode": {
    "name": "ipython",
    "version": 3
   },
   "file_extension": ".py",
   "mimetype": "text/x-python",
   "name": "python",
   "nbconvert_exporter": "python",
   "pygments_lexer": "ipython3",
   "version": "3.7.4"
  }
 },
 "nbformat": 4,
 "nbformat_minor": 4
}
