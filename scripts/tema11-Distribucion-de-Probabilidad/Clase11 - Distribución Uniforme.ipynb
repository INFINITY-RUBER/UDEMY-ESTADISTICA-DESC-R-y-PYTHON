{
 "cells": [
  {
   "cell_type": "markdown",
   "metadata": {},
   "source": [
    "## Distribución Uniforme\n",
    "\n",
    "Supongamos que $X\\sim U([0,1])$ entonces podemos estudiar sus parámetros"
   ]
  },
  {
   "cell_type": "code",
   "execution_count": 1,
   "metadata": {},
   "outputs": [],
   "source": [
    "from scipy.stats import uniform\n",
    "import matplotlib.pyplot as plt \n",
    "import numpy as np"
   ]
  },
  {
   "cell_type": "code",
   "execution_count": 3,
   "metadata": {},
   "outputs": [
    {
     "data": {
      "image/png": "[encoded data removed]",
      "text/plain": [
       "<Figure size 432x288 with 1 Axes>"
      ]
     },
     "metadata": {
      "needs_background": "light"
     },
     "output_type": "display_data"
    },
    {
     "name": "stdout",
     "output_type": "stream",
     "text": [
      "Media 0.500000\n",
      "Varianza 0.083333\n",
      "Sesgo 0.000000\n",
      "Curtosis -1.200000\n"
     ]
    }
   ],
   "source": [
    "a = 0\n",
    "b = 1\n",
    "\n",
    "loc = a\n",
    "scale = b-a\n",
    "\n",
    "fig, ax = plt.subplots(1,1)\n",
    "\n",
    "rv = uniform(loc = loc, scale = scale)\n",
    "\n",
    "mean, var, skew, kurt = rv.stats(moments = 'mvsk')\n",
    "\n",
    "\n",
    "x = np.linspace(-0.1, 1.1, 120)\n",
    "ax.plot(x, rv.pdf(x), 'k-', lw = 2, label = \"U(0,1)\")\n",
    "\n",
    "r = rv.rvs(size = 100000)\n",
    "ax.hist(r, density = True, histtype = \"stepfilled\", alpha = 0.25)\n",
    "\n",
    "ax.legend(loc = 'best', frameon = False)\n",
    "plt.show()\n",
    "\n",
    "print(\"Media %f\"%mean)\n",
    "print(\"Varianza %f\"%var)\n",
    "print(\"Sesgo %f\"%skew)\n",
    "print(\"Curtosis %f\"%kurt)"
   ]
  },
  {
   "cell_type": "code",
   "execution_count": null,
   "metadata": {},
   "outputs": [],
   "source": []
  }
 ],
 "metadata": {
  "kernelspec": {
   "display_name": "Python 3",
   "language": "python",
   "name": "python3"
  },
  "language_info": {
   "codemirror_mode": {
    "name": "ipython",
    "version": 3
   },
   "file_extension": ".py",
   "mimetype": "text/x-python",
   "name": "python",
   "nbconvert_exporter": "python",
   "pygments_lexer": "ipython3",
   "version": "3.7.4"
  }
 },
 "nbformat": 4,
 "nbformat_minor": 4
}
